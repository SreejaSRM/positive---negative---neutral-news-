{
  "nbformat": 4,
  "nbformat_minor": 0,
  "metadata": {
    "colab": {
      "name": "twitter sentimental analysis .ipynb",
      "provenance": [],
      "collapsed_sections": [],
      "include_colab_link": true
    },
    "kernelspec": {
      "name": "python3",
      "display_name": "Python 3"
    }
  },
  "cells": [
    {
      "cell_type": "markdown",
      "metadata": {
        "id": "view-in-github",
        "colab_type": "text"
      },
      "source": [
        "<a href=\"https://colab.research.google.com/github/SreejaSRM/positive-negative-neutral-news-/blob/main/twitter_sentimental_analysis_.ipynb\" target=\"_parent\"><img src=\"https://colab.research.google.com/assets/colab-badge.svg\" alt=\"Open In Colab\"/></a>"
      ]
    },
    {
      "cell_type": "code",
      "metadata": {
        "id": "1aomJctGb39M"
      },
      "source": [
        "# this is sentimental analysis which fetches data fro twitter\n"
      ],
      "execution_count": null,
      "outputs": []
    },
    {
      "cell_type": "code",
      "metadata": {
        "id": "6RSz2a-zcSoU"
      },
      "source": [
        "#importing libraries  here \n",
        "import tweepy\n",
        "from textblob import TextBlob\n",
        "from wordcloud import WordCloud\n",
        "import pandas as pd\n",
        "import re\n",
        "import matplotlib.pyplot as plt\n",
        "plt.style.use('fivethirtyeight')\n"
      ],
      "execution_count": null,
      "outputs": []
    },
    {
      "cell_type": "code",
      "metadata": {
        "id": "ZEmYknMgW-DF"
      },
      "source": [
        "import pandas as pd\n",
        "import numpy as np\n",
        "import matplotlib.pyplot as plt\n",
        "import seaborn as sns"
      ],
      "execution_count": null,
      "outputs": []
    },
    {
      "cell_type": "code",
      "metadata": {
        "colab": {
          "resources": {
            "http://localhost:8080/nbextensions/google.colab/files.js": {
              "data": "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",
              "ok": true,
              "headers": [
                [
                  "content-type",
                  "application/javascript"
                ]
              ],
              "status": 200,
              "status_text": ""
            }
          },
          "base_uri": "https://localhost:8080/",
          "height": 73
        },
        "id": "WBvdvI0mdDwL",
        "outputId": "a8fe5991-07ed-467a-f615-59e9502f8f83"
      },
      "source": [
        "# loading the keys files\n",
        "from google.colab import files\n",
        "uploaded=files.upload()"
      ],
      "execution_count": null,
      "outputs": [
        {
          "output_type": "display_data",
          "data": {
            "text/html": [
              "\n",
              "     <input type=\"file\" id=\"files-51458440-1200-4d5e-bdbb-ff2c57ff08e0\" name=\"files[]\" multiple disabled\n",
              "        style=\"border:none\" />\n",
              "     <output id=\"result-51458440-1200-4d5e-bdbb-ff2c57ff08e0\">\n",
              "      Upload widget is only available when the cell has been executed in the\n",
              "      current browser session. Please rerun this cell to enable.\n",
              "      </output>\n",
              "      <script src=\"/nbextensions/google.colab/files.js\"></script> "
            ],
            "text/plain": [
              "<IPython.core.display.HTML object>"
            ]
          },
          "metadata": {
            "tags": []
          }
        },
        {
          "output_type": "stream",
          "text": [
            "Saving Login1.csv to Login1.csv\n"
          ],
          "name": "stdout"
        }
      ]
    },
    {
      "cell_type": "markdown",
      "metadata": {
        "id": "7_6-1EyyUap1"
      },
      "source": [
        ""
      ]
    },
    {
      "cell_type": "code",
      "metadata": {
        "id": "RLzsdHIdUhBn"
      },
      "source": [
        ""
      ],
      "execution_count": null,
      "outputs": []
    },
    {
      "cell_type": "code",
      "metadata": {
        "id": "RsBYm2gsdilz"
      },
      "source": [
        "#get the data\n",
        "log = pd.read_csv('Login1.csv')"
      ],
      "execution_count": null,
      "outputs": []
    },
    {
      "cell_type": "markdown",
      "metadata": {
        "id": "6u08MLspS1OA"
      },
      "source": [
        "# API id's from tiwtter"
      ]
    },
    {
      "cell_type": "code",
      "metadata": {
        "id": "jU_3lCj1d4Uk"
      },
      "source": [
        "#getting the twitter API ids\n",
        "consumerKey = log['key'][0]\n",
        "consumerSecret = log['key'][1]\n",
        "accessToken = log['key'][2]\n",
        "accessTokenSecret = log['key'][3]\n",
        "\n"
      ],
      "execution_count": null,
      "outputs": []
    },
    {
      "cell_type": "code",
      "metadata": {
        "id": "7DqNFfhsipKA"
      },
      "source": [
        "# Create the authentication object\n",
        "authenticate = tweepy.OAuthHandler(consumerKey, consumerSecret)\n",
        "\n",
        "#set the acess token and acess token secret \n",
        "authenticate.set_access_token(accessToken, accessTokenSecret)\n",
        "\n",
        "#creating the API object while passing in the auth information \n",
        "api = tweepy.API(authenticate, wait_on_rate_limit = True)\n",
        " "
      ],
      "execution_count": null,
      "outputs": []
    },
    {
      "cell_type": "code",
      "metadata": {
        "colab": {
          "base_uri": "https://localhost:8080/"
        },
        "id": "aJjp6-UQj8V2",
        "outputId": "561c6013-b5b5-4e95-81ff-9b2f1df30c6c"
      },
      "source": [
        "#Extracting 100 tweets from the twitter users\n",
        "posts = api.user_timeline(screen_name = \"TIME\",count=100,lang=\"en\",tweet_mode=\"extended\")\n",
        "\n",
        "#print last 5 twets from the hash\n",
        "print(\"show the 5 recent tweets: \\n\")\n",
        "\n",
        "i=1\n",
        "for tweet in posts[0:5]:\n",
        "  print(str(i) +')'+ tweet.full_text + '\\n')\n",
        "  i = i+1\n",
        "\n"
      ],
      "execution_count": null,
      "outputs": [
        {
          "output_type": "stream",
          "text": [
            "show the 5 recent tweets: \n",
            "\n",
            "1)FDA extends Pfizer-BioNTech COVID-19 vaccine refrigeration storage time to 30 days https://t.co/DK4A3QLQWV\n",
            "\n",
            "2)The best podcasts of 2021 so far https://t.co/kvJkwjbC20\n",
            "\n",
            "3)Fadi Abu Shammala: I've tried to keep my kids safe through 3 bombardments of Gaza. It's never been like this before https://t.co/v4jepJmJQr\n",
            "\n",
            "4)Ford's new electric F-150 Lightning is more than it seems\n",
            "https://t.co/LktYeN2ewX\n",
            "\n",
            "5).@Planet_deb: Indian needs all the help it can get to fight COVID-19, but who does humanitarian aid really serve?\n",
            "https://t.co/Hc92O3xuPh\n",
            "\n"
          ],
          "name": "stdout"
        }
      ]
    },
    {
      "cell_type": "markdown",
      "metadata": {
        "id": "-h5Dwy89TIuH"
      },
      "source": [
        "# storing data from twitter in dataframes"
      ]
    },
    {
      "cell_type": "code",
      "metadata": {
        "id": "gt7Hf8WGld_f"
      },
      "source": [
        "# creting dataframe and storing in to it\n",
        "\n",
        "df = pd.DataFrame( [tweet.full_text for tweet in posts],columns=['Tweets'])\n",
        "\n"
      ],
      "execution_count": null,
      "outputs": []
    },
    {
      "cell_type": "code",
      "metadata": {
        "colab": {
          "base_uri": "https://localhost:8080/",
          "height": 202
        },
        "id": "IKOVOMHOoMLS",
        "outputId": "c5ee65dc-a554-4af2-ee9b-839ca66002af"
      },
      "source": [
        "#showing the first 5 rows of data\n",
        "df.head(5)\n",
        "#df.size\n",
        "\n",
        "\n"
      ],
      "execution_count": null,
      "outputs": [
        {
          "output_type": "execute_result",
          "data": {
            "text/html": [
              "<div>\n",
              "<style scoped>\n",
              "    .dataframe tbody tr th:only-of-type {\n",
              "        vertical-align: middle;\n",
              "    }\n",
              "\n",
              "    .dataframe tbody tr th {\n",
              "        vertical-align: top;\n",
              "    }\n",
              "\n",
              "    .dataframe thead th {\n",
              "        text-align: right;\n",
              "    }\n",
              "</style>\n",
              "<table border=\"1\" class=\"dataframe\">\n",
              "  <thead>\n",
              "    <tr style=\"text-align: right;\">\n",
              "      <th></th>\n",
              "      <th>Tweets</th>\n",
              "    </tr>\n",
              "  </thead>\n",
              "  <tbody>\n",
              "    <tr>\n",
              "      <th>0</th>\n",
              "      <td>FDA extends Pfizer-BioNTech COVID-19 vaccine r...</td>\n",
              "    </tr>\n",
              "    <tr>\n",
              "      <th>1</th>\n",
              "      <td>The best podcasts of 2021 so far https://t.co/...</td>\n",
              "    </tr>\n",
              "    <tr>\n",
              "      <th>2</th>\n",
              "      <td>Fadi Abu Shammala: I've tried to keep my kids ...</td>\n",
              "    </tr>\n",
              "    <tr>\n",
              "      <th>3</th>\n",
              "      <td>Ford's new electric F-150 Lightning is more th...</td>\n",
              "    </tr>\n",
              "    <tr>\n",
              "      <th>4</th>\n",
              "      <td>.@Planet_deb: Indian needs all the help it can...</td>\n",
              "    </tr>\n",
              "  </tbody>\n",
              "</table>\n",
              "</div>"
            ],
            "text/plain": [
              "                                              Tweets\n",
              "0  FDA extends Pfizer-BioNTech COVID-19 vaccine r...\n",
              "1  The best podcasts of 2021 so far https://t.co/...\n",
              "2  Fadi Abu Shammala: I've tried to keep my kids ...\n",
              "3  Ford's new electric F-150 Lightning is more th...\n",
              "4  .@Planet_deb: Indian needs all the help it can..."
            ]
          },
          "metadata": {
            "tags": []
          },
          "execution_count": 10
        }
      ]
    },
    {
      "cell_type": "markdown",
      "metadata": {
        "id": "dqFiH8Z5UFX-"
      },
      "source": [
        "# cleaning data "
      ]
    },
    {
      "cell_type": "code",
      "metadata": {
        "id": "IVAzM5S5YluS"
      },
      "source": [
        "import pandas as pd\n",
        "import string \n",
        "\n",
        "#nltk\n",
        "import nltk\n",
        "from nltk.corpus import stopwords\n",
        "from nltk.tokenize import word_tokenize,sent_tokenize\n",
        "from nltk.stem import PorterStemmer,WordNetLemmatizer\n",
        "from nltk import tokenize\n",
        "\n"
      ],
      "execution_count": null,
      "outputs": []
    },
    {
      "cell_type": "code",
      "metadata": {
        "colab": {
          "base_uri": "https://localhost:8080/"
        },
        "id": "ZJcTNJdKf3Ut",
        "outputId": "e6ab4a91-9f88-4836-ecfe-9f28d9efbf40"
      },
      "source": [
        "import nltk \n",
        "nltk.download('stopwords')\n",
        "stopword_list = nltk.corpus.stopwords.words('english')\n",
        "len(stopword_list)"
      ],
      "execution_count": null,
      "outputs": [
        {
          "output_type": "stream",
          "text": [
            "[nltk_data] Downloading package stopwords to /root/nltk_data...\n",
            "[nltk_data]   Unzipping corpora/stopwords.zip.\n"
          ],
          "name": "stdout"
        },
        {
          "output_type": "execute_result",
          "data": {
            "text/plain": [
              "179"
            ]
          },
          "metadata": {
            "tags": []
          },
          "execution_count": 12
        }
      ]
    },
    {
      "cell_type": "code",
      "metadata": {
        "colab": {
          "base_uri": "https://localhost:8080/"
        },
        "id": "7E20Pb-Af66G",
        "outputId": "8ae96e04-b8ec-40c3-819a-f48adef36ff7"
      },
      "source": [
        "stopword_list.remove('no')\n",
        "stopword_list.remove('not')\n",
        "len(stopword_list)"
      ],
      "execution_count": null,
      "outputs": [
        {
          "output_type": "execute_result",
          "data": {
            "text/plain": [
              "177"
            ]
          },
          "metadata": {
            "tags": []
          },
          "execution_count": 13
        }
      ]
    },
    {
      "cell_type": "code",
      "metadata": {
        "colab": {
          "base_uri": "https://localhost:8080/"
        },
        "id": "fXvt-x5Xf9qQ",
        "outputId": "607c0030-2f32-4be7-bbc2-ac29e74de475"
      },
      "source": [
        "!pip install beautifulsoup4\n",
        "from bs4 import BeautifulSoup"
      ],
      "execution_count": null,
      "outputs": [
        {
          "output_type": "stream",
          "text": [
            "Requirement already satisfied: beautifulsoup4 in /usr/local/lib/python3.7/dist-packages (4.6.3)\n"
          ],
          "name": "stdout"
        }
      ]
    },
    {
      "cell_type": "code",
      "metadata": {
        "id": "rEUyPJ5egBD-"
      },
      "source": [
        "def html_tag(text):\n",
        "  soup = BeautifulSoup(text,\"html.parser\")\n",
        "  new_text = soup.get_text()\n",
        "  return new_text"
      ],
      "execution_count": null,
      "outputs": []
    },
    {
      "cell_type": "code",
      "metadata": {
        "colab": {
          "base_uri": "https://localhost:8080/"
        },
        "id": "S_ZIWVZBgETG",
        "outputId": "c8e9bb2c-1647-4300-8c88-793e8625a776"
      },
      "source": [
        "!pip install contractions"
      ],
      "execution_count": null,
      "outputs": [
        {
          "output_type": "stream",
          "text": [
            "Collecting contractions\n",
            "  Downloading https://files.pythonhosted.org/packages/11/4d/378ab91284c2c3a06ab475b287721c09b7951d5ecb3edf4ffb0e1e7a568a/contractions-0.0.49-py2.py3-none-any.whl\n",
            "Collecting textsearch>=0.0.21\n",
            "  Downloading https://files.pythonhosted.org/packages/d3/fe/021d7d76961b5ceb9f8d022c4138461d83beff36c3938dc424586085e559/textsearch-0.0.21-py2.py3-none-any.whl\n",
            "Collecting anyascii\n",
            "\u001b[?25l  Downloading https://files.pythonhosted.org/packages/a3/14/666cd44bf53f36a961544af592cb5c5c800013f9c51a4745af8d7c17362a/anyascii-0.2.0-py3-none-any.whl (283kB)\n",
            "\u001b[K     |████████████████████████████████| 286kB 2.8MB/s \n",
            "\u001b[?25hCollecting pyahocorasick\n",
            "\u001b[?25l  Downloading https://files.pythonhosted.org/packages/7f/c2/eae730037ae1cbbfaa229d27030d1d5e34a1e41114b21447d1202ae9c220/pyahocorasick-1.4.2.tar.gz (321kB)\n",
            "\u001b[K     |████████████████████████████████| 327kB 16.6MB/s \n",
            "\u001b[?25hBuilding wheels for collected packages: pyahocorasick\n",
            "  Building wheel for pyahocorasick (setup.py) ... \u001b[?25l\u001b[?25hdone\n",
            "  Created wheel for pyahocorasick: filename=pyahocorasick-1.4.2-cp37-cp37m-linux_x86_64.whl size=85390 sha256=a18a8c3edede391f43f878d73ffd5094e730cb4b80e335b985dbef98b91ede3b\n",
            "  Stored in directory: /root/.cache/pip/wheels/3a/03/34/77e3ece0bba8b86bfac88a79f923b36d805cad63caeba38842\n",
            "Successfully built pyahocorasick\n",
            "Installing collected packages: anyascii, pyahocorasick, textsearch, contractions\n",
            "Successfully installed anyascii-0.2.0 contractions-0.0.49 pyahocorasick-1.4.2 textsearch-0.0.21\n"
          ],
          "name": "stdout"
        }
      ]
    },
    {
      "cell_type": "code",
      "metadata": {
        "id": "LxYj4V2xgHD3"
      },
      "source": [
        "import contractions\n",
        "def con(text):\n",
        "  expand = contractions.fix(text)\n",
        "  return expand"
      ],
      "execution_count": null,
      "outputs": []
    },
    {
      "cell_type": "code",
      "metadata": {
        "id": "u0EoedVdgLRN"
      },
      "source": [
        "import re\n",
        "def remove_sp(text):\n",
        "  pattern = r'[^A-Za-z0-9\\s]' \n",
        "  text = re.sub(pattern,'',text)\n",
        "  return text"
      ],
      "execution_count": null,
      "outputs": []
    },
    {
      "cell_type": "code",
      "metadata": {
        "id": "-0DAzyNkgNve"
      },
      "source": [
        "from nltk.tokenize.toktok import ToktokTokenizer\n",
        "tokenizer = ToktokTokenizer()"
      ],
      "execution_count": null,
      "outputs": []
    },
    {
      "cell_type": "code",
      "metadata": {
        "id": "jApriBqdgUmO"
      },
      "source": [
        "def remove_stopwords(text):\n",
        "  tokens = tokenizer.tokenize(text)\n",
        "  tokens = [token.strip()for token in tokens]\n",
        "  filtered_tokens = [token for token in tokens if token not in stopword_list]\n",
        "  filtered_text = ' '.join(filtered_tokens)\n",
        "  return filtered_text"
      ],
      "execution_count": null,
      "outputs": []
    },
    {
      "cell_type": "code",
      "metadata": {
        "id": "B20i4vTDgW5O"
      },
      "source": [
        "df.Tweets = df.Tweets.apply(lambda x:x.lower())"
      ],
      "execution_count": null,
      "outputs": []
    },
    {
      "cell_type": "code",
      "metadata": {
        "id": "ayasnZPPgZAO"
      },
      "source": [
        "df.Tweets = df.Tweets.apply(html_tag)"
      ],
      "execution_count": null,
      "outputs": []
    },
    {
      "cell_type": "code",
      "metadata": {
        "id": "upAjvn5sgs0_"
      },
      "source": [
        "df.Tweets = df.Tweets.apply(con)"
      ],
      "execution_count": null,
      "outputs": []
    },
    {
      "cell_type": "code",
      "metadata": {
        "id": "TGMVAooSgzEm"
      },
      "source": [
        "df.Tweets= df.Tweets.apply(remove_sp)"
      ],
      "execution_count": null,
      "outputs": []
    },
    {
      "cell_type": "code",
      "metadata": {
        "id": "Sbh43BTKg1U-"
      },
      "source": [
        "df.Tweets = df.Tweets.apply(remove_stopwords)"
      ],
      "execution_count": null,
      "outputs": []
    },
    {
      "cell_type": "code",
      "metadata": {
        "colab": {
          "base_uri": "https://localhost:8080/",
          "height": 202
        },
        "id": "ngja6GkVhB1m",
        "outputId": "682e3cc9-bb33-480d-c815-69483fde56a2"
      },
      "source": [
        "df.head()"
      ],
      "execution_count": null,
      "outputs": [
        {
          "output_type": "execute_result",
          "data": {
            "text/html": [
              "<div>\n",
              "<style scoped>\n",
              "    .dataframe tbody tr th:only-of-type {\n",
              "        vertical-align: middle;\n",
              "    }\n",
              "\n",
              "    .dataframe tbody tr th {\n",
              "        vertical-align: top;\n",
              "    }\n",
              "\n",
              "    .dataframe thead th {\n",
              "        text-align: right;\n",
              "    }\n",
              "</style>\n",
              "<table border=\"1\" class=\"dataframe\">\n",
              "  <thead>\n",
              "    <tr style=\"text-align: right;\">\n",
              "      <th></th>\n",
              "      <th>Tweets</th>\n",
              "    </tr>\n",
              "  </thead>\n",
              "  <tbody>\n",
              "    <tr>\n",
              "      <th>0</th>\n",
              "      <td>fda extends pfizerbiontech covid19 vaccine ref...</td>\n",
              "    </tr>\n",
              "    <tr>\n",
              "      <th>1</th>\n",
              "      <td>best podcasts 2021 far httpstcokvjkwjbc20</td>\n",
              "    </tr>\n",
              "    <tr>\n",
              "      <th>2</th>\n",
              "      <td>fadi abu shammala I tried keep kids safe 3 bom...</td>\n",
              "    </tr>\n",
              "    <tr>\n",
              "      <th>3</th>\n",
              "      <td>fords new electric f150 lightning seems httpst...</td>\n",
              "    </tr>\n",
              "    <tr>\n",
              "      <th>4</th>\n",
              "      <td>planetdeb indian needs help get fight covid19 ...</td>\n",
              "    </tr>\n",
              "  </tbody>\n",
              "</table>\n",
              "</div>"
            ],
            "text/plain": [
              "                                              Tweets\n",
              "0  fda extends pfizerbiontech covid19 vaccine ref...\n",
              "1          best podcasts 2021 far httpstcokvjkwjbc20\n",
              "2  fadi abu shammala I tried keep kids safe 3 bom...\n",
              "3  fords new electric f150 lightning seems httpst...\n",
              "4  planetdeb indian needs help get fight covid19 ..."
            ]
          },
          "metadata": {
            "tags": []
          },
          "execution_count": 26
        }
      ]
    },
    {
      "cell_type": "markdown",
      "metadata": {
        "id": "J2YejxCjUpfi"
      },
      "source": [
        "# polarity and subjectivity"
      ]
    },
    {
      "cell_type": "code",
      "metadata": {
        "colab": {
          "base_uri": "https://localhost:8080/",
          "height": 415
        },
        "id": "KEFICS8qhEIN",
        "outputId": "1c8cbad1-09b1-455c-f529-21afa13f1af7"
      },
      "source": [
        "#create a function to get the subjectivity\n",
        "def getsubjectivity(text):\n",
        "  return TextBlob(text).sentiment.subjectivity\n",
        "\n",
        "#creating a function to get the polarity\n",
        "def getPolarity(text):\n",
        "  return TextBlob(text).sentiment.polarity  \n",
        "\n",
        "#create two new column\n",
        "df['subjectivity'] = df['Tweets'].apply(getsubjectivity)\n",
        "df['Polarity'] = df['Tweets'].apply(getPolarity)\n",
        "\n",
        "df"
      ],
      "execution_count": null,
      "outputs": [
        {
          "output_type": "execute_result",
          "data": {
            "text/html": [
              "<div>\n",
              "<style scoped>\n",
              "    .dataframe tbody tr th:only-of-type {\n",
              "        vertical-align: middle;\n",
              "    }\n",
              "\n",
              "    .dataframe tbody tr th {\n",
              "        vertical-align: top;\n",
              "    }\n",
              "\n",
              "    .dataframe thead th {\n",
              "        text-align: right;\n",
              "    }\n",
              "</style>\n",
              "<table border=\"1\" class=\"dataframe\">\n",
              "  <thead>\n",
              "    <tr style=\"text-align: right;\">\n",
              "      <th></th>\n",
              "      <th>Tweets</th>\n",
              "      <th>subjectivity</th>\n",
              "      <th>Polarity</th>\n",
              "    </tr>\n",
              "  </thead>\n",
              "  <tbody>\n",
              "    <tr>\n",
              "      <th>0</th>\n",
              "      <td>fda extends pfizerbiontech covid19 vaccine ref...</td>\n",
              "      <td>0.000000</td>\n",
              "      <td>0.000000</td>\n",
              "    </tr>\n",
              "    <tr>\n",
              "      <th>1</th>\n",
              "      <td>best podcasts 2021 far httpstcokvjkwjbc20</td>\n",
              "      <td>0.650000</td>\n",
              "      <td>0.550000</td>\n",
              "    </tr>\n",
              "    <tr>\n",
              "      <th>2</th>\n",
              "      <td>fadi abu shammala I tried keep kids safe 3 bom...</td>\n",
              "      <td>0.500000</td>\n",
              "      <td>0.500000</td>\n",
              "    </tr>\n",
              "    <tr>\n",
              "      <th>3</th>\n",
              "      <td>fords new electric f150 lightning seems httpst...</td>\n",
              "      <td>0.454545</td>\n",
              "      <td>0.136364</td>\n",
              "    </tr>\n",
              "    <tr>\n",
              "      <th>4</th>\n",
              "      <td>planetdeb indian needs help get fight covid19 ...</td>\n",
              "      <td>0.200000</td>\n",
              "      <td>0.200000</td>\n",
              "    </tr>\n",
              "    <tr>\n",
              "      <th>...</th>\n",
              "      <td>...</td>\n",
              "      <td>...</td>\n",
              "      <td>...</td>\n",
              "    </tr>\n",
              "    <tr>\n",
              "      <th>95</th>\n",
              "      <td>cdc clearly jumped gun new guidance leave vuln...</td>\n",
              "      <td>0.409470</td>\n",
              "      <td>-0.065909</td>\n",
              "    </tr>\n",
              "    <tr>\n",
              "      <th>96</th>\n",
              "      <td>conflict gaza strip could lead new covid19 sur...</td>\n",
              "      <td>0.454545</td>\n",
              "      <td>0.136364</td>\n",
              "    </tr>\n",
              "    <tr>\n",
              "      <th>97</th>\n",
              "      <td>2020 election breakthrough moment young voters...</td>\n",
              "      <td>0.400000</td>\n",
              "      <td>0.100000</td>\n",
              "    </tr>\n",
              "    <tr>\n",
              "      <th>98</th>\n",
              "      <td>ayelet gundargoshen israel bleeding within res...</td>\n",
              "      <td>0.687500</td>\n",
              "      <td>0.156250</td>\n",
              "    </tr>\n",
              "    <tr>\n",
              "      <th>99</th>\n",
              "      <td>visited grandkids 16 months realized much pand...</td>\n",
              "      <td>0.200000</td>\n",
              "      <td>0.200000</td>\n",
              "    </tr>\n",
              "  </tbody>\n",
              "</table>\n",
              "<p>100 rows × 3 columns</p>\n",
              "</div>"
            ],
            "text/plain": [
              "                                               Tweets  subjectivity  Polarity\n",
              "0   fda extends pfizerbiontech covid19 vaccine ref...      0.000000  0.000000\n",
              "1           best podcasts 2021 far httpstcokvjkwjbc20      0.650000  0.550000\n",
              "2   fadi abu shammala I tried keep kids safe 3 bom...      0.500000  0.500000\n",
              "3   fords new electric f150 lightning seems httpst...      0.454545  0.136364\n",
              "4   planetdeb indian needs help get fight covid19 ...      0.200000  0.200000\n",
              "..                                                ...           ...       ...\n",
              "95  cdc clearly jumped gun new guidance leave vuln...      0.409470 -0.065909\n",
              "96  conflict gaza strip could lead new covid19 sur...      0.454545  0.136364\n",
              "97  2020 election breakthrough moment young voters...      0.400000  0.100000\n",
              "98  ayelet gundargoshen israel bleeding within res...      0.687500  0.156250\n",
              "99  visited grandkids 16 months realized much pand...      0.200000  0.200000\n",
              "\n",
              "[100 rows x 3 columns]"
            ]
          },
          "metadata": {
            "tags": []
          },
          "execution_count": 27
        }
      ]
    },
    {
      "cell_type": "markdown",
      "metadata": {
        "id": "s0Rv1tz2-V-Q"
      },
      "source": [
        "WORLD CLOUD "
      ]
    },
    {
      "cell_type": "code",
      "metadata": {
        "colab": {
          "base_uri": "https://localhost:8080/",
          "height": 256
        },
        "id": "4jPvzY3e-Vml",
        "outputId": "edfe09fa-ecf9-4ae4-8bc6-f50525943fa5"
      },
      "source": [
        "allwords = ' '.join ([twts for twts in df['Tweets']])\n",
        "wordcloud = WordCloud(width = 500,height = 300 , random_state = 21 ,max_font_size = 119).generate(allwords)\n",
        "plt.imshow(wordcloud,interpolation = \"bilinear\")\n",
        "plt.axis('off')\n",
        "plt.show()"
      ],
      "execution_count": null,
      "outputs": [
        {
          "output_type": "display_data",
          "data": {
            "image/png": "[encoded data removed]",
            "text/plain": [
              "<Figure size 432x288 with 1 Axes>"
            ]
          },
          "metadata": {
            "tags": []
          }
        }
      ]
    },
    {
      "cell_type": "markdown",
      "metadata": {
        "id": "l3TJqA8KU9ac"
      },
      "source": [
        "# dataframe with pos,neg and neu"
      ]
    },
    {
      "cell_type": "code",
      "metadata": {
        "colab": {
          "base_uri": "https://localhost:8080/",
          "height": 415
        },
        "id": "3uif6LbEmMIo",
        "outputId": "60e95ef6-7b7f-4b81-945d-ccc8261a381e"
      },
      "source": [
        "#crete a function to compute negative , neutral and positive analysis\n",
        "def getAnalysis(score):\n",
        "  if score<0:\n",
        "    return 'Negative'\n",
        "  elif score == 0:\n",
        "    return 'Neutral'\n",
        "  else:\n",
        "    return \"Positive\"\n",
        "\n",
        "df['Analysis'] = df['Polarity'].apply(getAnalysis)\n",
        "\n",
        "df"
      ],
      "execution_count": null,
      "outputs": [
        {
          "output_type": "execute_result",
          "data": {
            "text/html": [
              "<div>\n",
              "<style scoped>\n",
              "    .dataframe tbody tr th:only-of-type {\n",
              "        vertical-align: middle;\n",
              "    }\n",
              "\n",
              "    .dataframe tbody tr th {\n",
              "        vertical-align: top;\n",
              "    }\n",
              "\n",
              "    .dataframe thead th {\n",
              "        text-align: right;\n",
              "    }\n",
              "</style>\n",
              "<table border=\"1\" class=\"dataframe\">\n",
              "  <thead>\n",
              "    <tr style=\"text-align: right;\">\n",
              "      <th></th>\n",
              "      <th>Tweets</th>\n",
              "      <th>subjectivity</th>\n",
              "      <th>Polarity</th>\n",
              "      <th>Analysis</th>\n",
              "    </tr>\n",
              "  </thead>\n",
              "  <tbody>\n",
              "    <tr>\n",
              "      <th>0</th>\n",
              "      <td>fda extends pfizerbiontech covid19 vaccine ref...</td>\n",
              "      <td>0.000000</td>\n",
              "      <td>0.000000</td>\n",
              "      <td>Neutral</td>\n",
              "    </tr>\n",
              "    <tr>\n",
              "      <th>1</th>\n",
              "      <td>best podcasts 2021 far httpstcokvjkwjbc20</td>\n",
              "      <td>0.650000</td>\n",
              "      <td>0.550000</td>\n",
              "      <td>Positive</td>\n",
              "    </tr>\n",
              "    <tr>\n",
              "      <th>2</th>\n",
              "      <td>fadi abu shammala I tried keep kids safe 3 bom...</td>\n",
              "      <td>0.500000</td>\n",
              "      <td>0.500000</td>\n",
              "      <td>Positive</td>\n",
              "    </tr>\n",
              "    <tr>\n",
              "      <th>3</th>\n",
              "      <td>fords new electric f150 lightning seems httpst...</td>\n",
              "      <td>0.454545</td>\n",
              "      <td>0.136364</td>\n",
              "      <td>Positive</td>\n",
              "    </tr>\n",
              "    <tr>\n",
              "      <th>4</th>\n",
              "      <td>planetdeb indian needs help get fight covid19 ...</td>\n",
              "      <td>0.200000</td>\n",
              "      <td>0.200000</td>\n",
              "      <td>Positive</td>\n",
              "    </tr>\n",
              "    <tr>\n",
              "      <th>...</th>\n",
              "      <td>...</td>\n",
              "      <td>...</td>\n",
              "      <td>...</td>\n",
              "      <td>...</td>\n",
              "    </tr>\n",
              "    <tr>\n",
              "      <th>95</th>\n",
              "      <td>cdc clearly jumped gun new guidance leave vuln...</td>\n",
              "      <td>0.409470</td>\n",
              "      <td>-0.065909</td>\n",
              "      <td>Negative</td>\n",
              "    </tr>\n",
              "    <tr>\n",
              "      <th>96</th>\n",
              "      <td>conflict gaza strip could lead new covid19 sur...</td>\n",
              "      <td>0.454545</td>\n",
              "      <td>0.136364</td>\n",
              "      <td>Positive</td>\n",
              "    </tr>\n",
              "    <tr>\n",
              "      <th>97</th>\n",
              "      <td>2020 election breakthrough moment young voters...</td>\n",
              "      <td>0.400000</td>\n",
              "      <td>0.100000</td>\n",
              "      <td>Positive</td>\n",
              "    </tr>\n",
              "    <tr>\n",
              "      <th>98</th>\n",
              "      <td>ayelet gundargoshen israel bleeding within res...</td>\n",
              "      <td>0.687500</td>\n",
              "      <td>0.156250</td>\n",
              "      <td>Positive</td>\n",
              "    </tr>\n",
              "    <tr>\n",
              "      <th>99</th>\n",
              "      <td>visited grandkids 16 months realized much pand...</td>\n",
              "      <td>0.200000</td>\n",
              "      <td>0.200000</td>\n",
              "      <td>Positive</td>\n",
              "    </tr>\n",
              "  </tbody>\n",
              "</table>\n",
              "<p>100 rows × 4 columns</p>\n",
              "</div>"
            ],
            "text/plain": [
              "                                               Tweets  ...  Analysis\n",
              "0   fda extends pfizerbiontech covid19 vaccine ref...  ...   Neutral\n",
              "1           best podcasts 2021 far httpstcokvjkwjbc20  ...  Positive\n",
              "2   fadi abu shammala I tried keep kids safe 3 bom...  ...  Positive\n",
              "3   fords new electric f150 lightning seems httpst...  ...  Positive\n",
              "4   planetdeb indian needs help get fight covid19 ...  ...  Positive\n",
              "..                                                ...  ...       ...\n",
              "95  cdc clearly jumped gun new guidance leave vuln...  ...  Negative\n",
              "96  conflict gaza strip could lead new covid19 sur...  ...  Positive\n",
              "97  2020 election breakthrough moment young voters...  ...  Positive\n",
              "98  ayelet gundargoshen israel bleeding within res...  ...  Positive\n",
              "99  visited grandkids 16 months realized much pand...  ...  Positive\n",
              "\n",
              "[100 rows x 4 columns]"
            ]
          },
          "metadata": {
            "tags": []
          },
          "execution_count": 29
        }
      ]
    },
    {
      "cell_type": "markdown",
      "metadata": {
        "id": "-hxJGhf0UzJX"
      },
      "source": [
        "# Positive Tweets"
      ]
    },
    {
      "cell_type": "code",
      "metadata": {
        "colab": {
          "base_uri": "https://localhost:8080/"
        },
        "id": "3Yju2gz8zX1j",
        "outputId": "139f9c1a-f66c-460f-cf3f-29b8fec70cd0"
      },
      "source": [
        " #printing all positive tweets\n",
        " j=1\n",
        " sortdf = df.sort_values(by = ['Polarity'])\n",
        " for i in range(0,sortdf.shape[0]):\n",
        "   if(sortdf['Analysis'][i] == 'Positive'):\n",
        "     print(str(j) +')' +sortdf['Tweets'][i])\n",
        "     print()\n",
        "     j=j+1"
      ],
      "execution_count": null,
      "outputs": [
        {
          "output_type": "stream",
          "text": [
            "1)best podcasts 2021 far httpstcokvjkwjbc20\n",
            "\n",
            "2)fadi abu shammala I tried keep kids safe 3 bombardments gaza never like httpstcov4jepjmjqr\n",
            "\n",
            "3)fords new electric f150 lightning seems httpstcolktyen2ewx\n",
            "\n",
            "4)planetdeb indian needs help get fight covid19 humanitarian aid really serve httpstcohc92o3xuph\n",
            "\n",
            "5)review hbo maxs hilarious showbiz comedy hacks star vehicle jean smart deserves httpstcovw5zdt4gdu\n",
            "\n",
            "6)three new books find drama scandals controversies publishing world httpstcozglde3ukgi\n",
            "\n",
            "7)applications open times best inventions 2021 make list enter httpstcoslurhdfdll httpstcoq6tp05jttl\n",
            "\n",
            "8)comedian patti harrison first leading rolebut not looking stop goofing around httpstco9oaeu9gftp\n",
            "\n",
            "9)make meaningful connections age zoom according jonlevytlb author invited httpstcoqovajoxa1x\n",
            "\n",
            "10)2020 election breakthrough moment young voters httpstcoknrmi1iruj\n",
            "\n",
            "11)communities color found strength joy comfort year like no time highlights five served vital support systems pandemic httpstcoz9nhefaxvc httpstco3umbbwz8qo\n",
            "\n",
            "12)visual embodiment joy chanel miller aapi artists create vibrant murals chinatown restaurants httpstcoljbzo3pvg9\n",
            "\n",
            "13)australia banned citizens india coming home covid19 many ask really australian httpstcobcxxhfpncv\n",
            "\n",
            "14)conflict gaza strip could lead new covid19 surge httpstcoj0wgarrlsf\n",
            "\n",
            "15)visited grandkids 16 months realized much pandemic changed httpstcoiszi6oidyq\n",
            "\n",
            "16)visual embodiment joy chanel miller aapi artists create vibrant murals chinatown restaurants httpstcomneqcmz7aj\n",
            "\n",
            "17)join us live time100talks featuring xiuhtezcatl tomorrow 100 pm edt register httpstcodzrqslwcbw httpstcoqzinzkp4ca\n",
            "\n",
            "18)best podcasts 2021 far deep dive life career selena quintanilla anything selena stories behind black lives matter protesters resistance httpstcodd5utmat2x httpstco5yie3dh9zg\n",
            "\n",
            "19)fadi abu shammala I tried keep kids safe 3 bombardments gaza never like httpstco3kxvrbetfm\n",
            "\n",
            "20)rt timeforkids true five years ago true today true 100 years favorite financial expe\n",
            "\n",
            "21)rt edockterman things opening not mean stop taking long walks best podcasts iv\n",
            "\n",
            "22)nextadvisor bitcoin beginners guide original crypto httpstcobhr6b1zjtr\n",
            "\n",
            "23)todays daily spotlight chriswilsondc mollyesques interactive quiz based exclusive polling data factors really divide americans httpstcog5boqz1q84\n",
            "\n",
            "24)best podcasts 2021 far httpstcomoqd76g8lo\n",
            "\n",
            "25)join us live time100talks featuring artist sage dolansandrino tomorrow 100 pm edt register httpstcoxnvwkicktq httpstcopp1sldopnf\n",
            "\n",
            "26)2020 election breakthrough moment young voters httpstco3h4vldieuv\n",
            "\n",
            "27)george washington organized first largescale immunization campaign american history httpstco3ru4wbrwvl\n",
            "\n",
            "28)visited grandkids 16 months realized much pandemic changed httpstconcjedbm2yh\n",
            "\n",
            "29)australia banned citizens india coming home covid19 many ask really australian httpstco7jpcxpfw76\n",
            "\n",
            "30)yous military presence greenland since 1941 young new leader wants much httpstco0qd4fdg0it\n",
            "\n",
            "31)welcome republican party 2021 one fealty former president donald trump mandate anyone looking join official leadership team writes philipelliott httpstcome4tkv0mpw\n",
            "\n",
            "32)rt efelsenthal 98 years ago time startup publishing first issue cover artists would help define century today\n",
            "\n",
            "33)join us live time100talks featuring davidhogg111 friday may 21 100 pm edt register httpstcohvfcknapp6 httpstcoqc2pcxzuqa\n",
            "\n",
            "34)evalongoria mnica ramrez really believe farmworkers essential must protect mental health httpstcoqaarvibpie\n",
            "\n",
            "35)child tax credit payments start july 15 much get httpstco6ojaixdfbg\n",
            "\n",
            "36)12 new books read may httpstcomitlawoff9\n",
            "\n",
            "37)visited grandkids 16 months realized much pandemic changed httpstcoxmkde3xusp\n",
            "\n",
            "38)reached millionaire status ability work optional early 30s writes shang saavedra working first job realized parents taught would counterproductive personal finance goals httpstcot9lrzmvejk\n",
            "\n",
            "39)yous military presence greenland since 1941 young new leader wants much httpstco9pj7rhjwnr\n",
            "\n",
            "40)welcome republican party 2021 one fealty former president donald trump mandate anyone looking join official leadership team writes philipelliott httpstcoi4kqnbfy0r\n",
            "\n",
            "41)fight climate change progress often measured commitments stretch decades future tuesday international energy agency offered reality check time stop investing new fossil fuel resources httpstcoymizl2qqwl\n",
            "\n",
            "42)one japans top medical associations wants olympics canceled httpstcoqmx6tpkiq0\n",
            "\n",
            "43)starting join time youtube premiere milk factory takes viewers inside lactation room yous capitol premiere feature live qa filmmaker corrine botz expert panel watch httpstco0srnf1nq4t httpstcovloktpzzld\n",
            "\n",
            "44)todays daily spotlight amygunia australia banned citizens india coming home covid19 many ask really australian httpstcopsdrg9uzny\n",
            "\n",
            "45)australia banned citizens india coming home covid19 many ask really australian httpstcocclwisyuj6\n",
            "\n",
            "46)conflict gaza strip could lead new covid19 surge httpstcoj8tr7te1ny\n",
            "\n",
            "47)2020 election breakthrough moment young voters httpstcowwkyvuuq8s\n",
            "\n",
            "48)ayelet gundargoshen israel bleeding within restoring peace not mean return way lived httpstcoj62diy9nsv\n",
            "\n",
            "49)visited grandkids 16 months realized much pandemic changed httpstco1uw2x0hmik\n",
            "\n"
          ],
          "name": "stdout"
        }
      ]
    },
    {
      "cell_type": "markdown",
      "metadata": {
        "id": "ulcsnMt6VCFP"
      },
      "source": [
        "# Negative Tweets"
      ]
    },
    {
      "cell_type": "code",
      "metadata": {
        "colab": {
          "base_uri": "https://localhost:8080/"
        },
        "id": "lls1yJ-e4b7X",
        "outputId": "902dbc55-3cd8-4441-9d0d-75afa2642740"
      },
      "source": [
        "#printing all negative tweets\n",
        "j=1\n",
        "sortdf = df.sort_values(by = ['Polarity'],ascending='False')\n",
        "for i in range(0,sortdf.shape[0]):\n",
        "  if(sortdf['Analysis'][i] == 'Negative'):\n",
        "     print(str(j) +')' +sortdf['Tweets'][i])\n",
        "     print()\n",
        "     j=j+1"
      ],
      "execution_count": null,
      "outputs": [
        {
          "output_type": "stream",
          "text": [
            "1)pandemic cut aviations emissions half 2020 industry solve longterm carbon problem httpstco1vyapqhdpt\n",
            "\n",
            "2)new crowdsourcing app hopes serve green book lgbtq people color httpstco8ldsaz3bsr\n",
            "\n",
            "3)terrible year women economy places working toward feminist recovery covid19 httpstcogrxtmf2wwl\n",
            "\n",
            "4)reynosa tijuana shelter capacity worn thin yous continues expel migrants httpstcoqkqj8b5uqo\n",
            "\n",
            "5)ice end use georgia detention facility center hysterectomy allegations httpstcoihbvvbpp5u\n",
            "\n",
            "6)gets wear headscarf complicated history behind frances latest hijab controversy httpstcoigqmnlwdof\n",
            "\n",
            "7)sebastianjunger father fled fascism spainand taught lies destroy democracy httpstco1meffdenwn\n",
            "\n",
            "8)people expected police behavior change george floyds murder numbers tell different story httpstcorspf9zrp8x\n",
            "\n",
            "9)gaza strip 25 miles long became center decades conflict httpstcolbsgkzohrl\n",
            "\n",
            "10)could things gone wrong company founded two stanford students said wanted make cigarettes obsolete httpstcovhaxpz05y0\n",
            "\n",
            "11)anticipated movies summer 2021 black widow candyman httpstcoslpo2donsi\n",
            "\n",
            "12)new crowdsourcing app hopes serve green book lgbtq people color httpstcoyi8ujzk7rh\n",
            "\n",
            "13)gets wear headscarf complicated history behind frances latest hijab controversy httpstcobtxy3djcvi\n",
            "\n",
            "14)face government failure infrastructural collapse civil society groups stepping forward meet needs moment writes simran jeet singh httpstcomjimcclkpi\n",
            "\n",
            "15)house voted create january 6 commission investigations long american tradition httpstcowzezoz6lyb\n",
            "\n",
            "16)not hide behind logos bozoma saint john badassboz jason wright whoisjwright promoting racial equity inclusion corporate roles httpstcofdbmpb46nv\n",
            "\n",
            "17)lucyfeldman story behind times firstever bipocled issue evolving newsroom starts asking space centering fresh voices within httpstcotsiz6r0dzy\n",
            "\n",
            "18)review fxs pride nails difficult task condensing 60 years lgbtq activism one compelling docuseries httpstcoxpuuasx4wo\n",
            "\n",
            "19)janellross americans learned talk racial inequality done little solve httpstcog9r6d3upup\n",
            "\n",
            "20)people expected police behavior change george floyds murder numbers tell different story httpstcotzm0pi6vt8\n",
            "\n",
            "21)sebastianjunger father fled fascism spainand taught lies destroy democracy httpstcoivzvyocewh\n",
            "\n",
            "22)anticipated movies summer 2021 black widow candyman httpstcoumukkwrecf\n",
            "\n",
            "23)gets wear headscarf complicated history behind frances latest hijab controversy httpstcosxclm8wksj\n",
            "\n",
            "24)terry city think every black male seminal moment one series seminal moments overt racism punches stomach learn one million truths founded mark eckhardt httpstcoy1ggt1ogzp httpstcobr0pkd52vb\n",
            "\n",
            "25)pandemic cut aviations emissions half 2020 industry solve longterm carbon problem httpstcoumvfgavyzf\n",
            "\n",
            "26)cdc clearly jumped gun new guidance leave vulnerable peopleespecially essential workersunprotected could increase risk infection write theresa chapplemcgruder gavin yamey httpstcohyvfi07eeq\n",
            "\n"
          ],
          "name": "stdout"
        }
      ]
    },
    {
      "cell_type": "code",
      "metadata": {
        "colab": {
          "base_uri": "https://localhost:8080/"
        },
        "id": "q6X32jBlHzHP",
        "outputId": "8e80a23d-dc28-437b-824f-ef75eae7ca01"
      },
      "source": [
        " #printing all nuetral tweets\n",
        " j=1\n",
        " sortdf = df.sort_values(by = ['Polarity'])\n",
        " for i in range(0,sortdf.shape[0]):\n",
        "   if(sortdf['Analysis'][i] == 'Neutral'):\n",
        "     print(str(j) +')' +sortdf['Tweets'][i])\n",
        "     print()\n",
        "     j=j+1"
      ],
      "execution_count": null,
      "outputs": [
        {
          "output_type": "stream",
          "text": [
            "1)fda extends pfizerbiontech covid19 vaccine refrigeration storage time 30 days httpstcodk4a3qlqwv\n",
            "\n",
            "2)china cracking untouchable tech titans httpstcomebmirhlvt\n",
            "\n",
            "3)informed united subscribe time httpstco5e5hoajoeh httpstcoyb68iu9woa\n",
            "\n",
            "4)susannaschrobs depression pandemic let us use lessons covid19 find treatments httpstcot6xry6cf9a\n",
            "\n",
            "5)anthony fauci 100 days biden administration finally getting job httpstco65xciif7mn\n",
            "\n",
            "6)know woman window movie adaptation hits netflix httpstcovl1nsq6bft\n",
            "\n",
            "7)china cracking untouchable tech titans httpstcojudivfmzyi\n",
            "\n",
            "8)animated guide years massive brood x cicada emergence httpstcohq95umzzjg\n",
            "\n",
            "9)fda extends pfizerbiontech covid19 vaccine refrigeration storage time 30 days httpstcowquursxmkr\n",
            "\n",
            "10)know summit joe biden moon jaein httpstcohxcnmn1lul\n",
            "\n",
            "11)colsonwhitehead margaretatwood discuss underground railroad handmaids tale challenges adaptation httpstcoyrxqcj8kzd\n",
            "\n",
            "12)china says provide covid19 vaccines almost 40 african states httpstcon4cexfktbu\n",
            "\n",
            "13)israel unleashes strikes vowing press gaza httpstcojrs4t42v0x\n",
            "\n",
            "14)lives not matter indias female community health workers say government failing protect covid19 httpstco3r1fddbgpn\n",
            "\n",
            "15)rusting oil tanker coast yemen environmental catastrophe waiting happen anyone prevent httpstcolwis53loig\n",
            "\n",
            "16)review woman window effective agoraphobia thriller chilly uptown sheen httpstcopk6qkphfcq\n",
            "\n",
            "17)photo series accompanying documentary titled milk factory corinne botz goes inside thirty american lactation facilities makeshift spaces lactating mothers httpstcokia1vglitf\n",
            "\n",
            "18)please keep living truths demi lovato announces nonbinary httpstcovyt7qlwzt6\n",
            "\n",
            "19)colsonwhitehead margaretatwood discuss underground railroad handmaids tale challenges adaptation httpstcocdy3i60urk\n",
            "\n",
            "20)animated guide years massive brood x cicada emergence httpstco3gamjabrqq\n",
            "\n",
            "21)fled gaza family remains yous step help httpstcoucdj3fhrfm\n",
            "\n",
            "22)know summit joe biden moon jaein httpstcox1hgzcwel6\n",
            "\n",
            "23)anthony fauci 100 days biden administration finally getting job httpstcoaef8excs0n\n",
            "\n",
            "24)please keep living truths demi lovato announces nonbinary identity use theythem pronouns httpstcomzcz1ukgzv\n",
            "\n",
            "25)stop hatred mc jin wyclef jean aims send message blackasian solidarity httpstcoqjzdmqiyg3\n",
            "\n"
          ],
          "name": "stdout"
        }
      ]
    },
    {
      "cell_type": "markdown",
      "metadata": {
        "id": "vRSTuCZ0VIOC"
      },
      "source": [
        "# scatterd graph between polarity and subjectivity"
      ]
    },
    {
      "cell_type": "code",
      "metadata": {
        "id": "JHLvlNJb4-j1",
        "colab": {
          "base_uri": "https://localhost:8080/",
          "height": 441
        },
        "outputId": "f86fdda6-c40f-4554-ee8d-8b683161d648"
      },
      "source": [
        "#plot the polarity and subjectivity\n",
        "\n",
        "plt.figure(figsize=(8,6))\n",
        "for i in range(0,df.shape[0]):\n",
        "  plt.scatter(df['Polarity'][i], df['subjectivity'][i],color = 'Blue')\n",
        "\n",
        "plt.title('Sentiment Analysis')\n",
        "plt.xlabel('Polarity')\n",
        "plt.ylabel('Subjectivity')\n",
        "plt.show()  "
      ],
      "execution_count": null,
      "outputs": [
        {
          "output_type": "display_data",
          "data": {
            "image/png": "[encoded data removed]",
            "text/plain": [
              "<Figure size 576x432 with 1 Axes>"
            ]
          },
          "metadata": {
            "tags": []
          }
        }
      ]
    },
    {
      "cell_type": "code",
      "metadata": {
        "colab": {
          "base_uri": "https://localhost:8080/"
        },
        "id": "tcpJIJc_HY0s",
        "outputId": "0f9f8a70-9edd-48c1-d56d-dafd304eaa94"
      },
      "source": [
        "#getting the percentage of positive twwets\n",
        "\n",
        "postweets = df[df.Analysis == 'Positive']\n",
        "postweets = postweets['Tweets']\n",
        "\n",
        "round( (postweets.shape[0]/df.shape[0])*100 ,1)\n"
      ],
      "execution_count": null,
      "outputs": [
        {
          "output_type": "execute_result",
          "data": {
            "text/plain": [
              "49.0"
            ]
          },
          "metadata": {
            "tags": []
          },
          "execution_count": 34
        }
      ]
    },
    {
      "cell_type": "code",
      "metadata": {
        "colab": {
          "base_uri": "https://localhost:8080/"
        },
        "id": "yuFrfQgMJi7Z",
        "outputId": "4c8c152d-c1c2-46b7-d8a8-2c9bdfac8e04"
      },
      "source": [
        "#negative tweets percetage \n",
        "\n",
        "negtweets = df[df.Analysis == 'Negative']\n",
        "negtweets = negtweets['Tweets']\n",
        "\n",
        "round( (negtweets.shape[0]/df.shape[0])*100 ,1)\n"
      ],
      "execution_count": null,
      "outputs": [
        {
          "output_type": "execute_result",
          "data": {
            "text/plain": [
              "26.0"
            ]
          },
          "metadata": {
            "tags": []
          },
          "execution_count": 35
        }
      ]
    },
    {
      "cell_type": "code",
      "metadata": {
        "colab": {
          "base_uri": "https://localhost:8080/"
        },
        "id": "0V4gLGE5KT9m",
        "outputId": "90a4c44b-476c-4658-80c9-cad30a16f5be"
      },
      "source": [
        "#neutral  tweets percetage \n",
        "\n",
        "newtweets = df[df.Analysis == 'Neutral']\n",
        "newtweets = newtweets['Tweets']\n",
        "\n",
        "round( (newtweets.shape[0]/df.shape[0])*100 ,1)"
      ],
      "execution_count": null,
      "outputs": [
        {
          "output_type": "execute_result",
          "data": {
            "text/plain": [
              "25.0"
            ]
          },
          "metadata": {
            "tags": []
          },
          "execution_count": 36
        }
      ]
    },
    {
      "cell_type": "markdown",
      "metadata": {
        "id": "-gUg_f4oVXju"
      },
      "source": [
        "# Bar graph"
      ]
    },
    {
      "cell_type": "code",
      "metadata": {
        "id": "LnI-aKIxVUlA"
      },
      "source": [
        ""
      ],
      "execution_count": null,
      "outputs": []
    },
    {
      "cell_type": "code",
      "metadata": {
        "colab": {
          "base_uri": "https://localhost:8080/",
          "height": 374
        },
        "id": "v3LOdkq-Kfe5",
        "outputId": "647661a8-6237-4afc-d61b-c54d80db7cf1"
      },
      "source": [
        "#showing the value counts\n",
        "\n",
        "df['Analysis'].value_counts()\n",
        "\n",
        "#plot\n",
        "plt.title('Sentiment Analysis')\n",
        "plt.xlabel('sentiment')\n",
        "plt.ylabel('Counts')\n",
        "df['Analysis'].value_counts().plot(kind='bar')\n",
        "plt.show()"
      ],
      "execution_count": null,
      "outputs": [
        {
          "output_type": "display_data",
          "data": {
            "image/png": "[encoded data removed]",
            "text/plain": [
              "<Figure size 432x288 with 1 Axes>"
            ]
          },
          "metadata": {
            "tags": []
          }
        }
      ]
    },
    {
      "cell_type": "code",
      "metadata": {
        "colab": {
          "base_uri": "https://localhost:8080/",
          "height": 401
        },
        "id": "RYrX9GF3WCfF",
        "outputId": "fb2460ee-884f-4258-d35d-a7d17ed0f559"
      },
      "source": [
        "sns.catplot(x ='Analysis',data=df,kind ='count')"
      ],
      "execution_count": null,
      "outputs": [
        {
          "output_type": "execute_result",
          "data": {
            "text/plain": [
              "<seaborn.axisgrid.FacetGrid at 0x7eff44636190>"
            ]
          },
          "metadata": {
            "tags": []
          },
          "execution_count": 38
        },
        {
          "output_type": "display_data",
          "data": {
            "image/png": "[encoded data removed]",
            "text/plain": [
              "<Figure size 360x360 with 1 Axes>"
            ]
          },
          "metadata": {
            "tags": []
          }
        }
      ]
    },
    {
      "cell_type": "code",
      "metadata": {
        "colab": {
          "base_uri": "https://localhost:8080/"
        },
        "id": "yRJyMSgAYE_F",
        "outputId": "2ba91a14-c964-4619-8127-acd7c99b7478"
      },
      "source": [
        "categories = df['Analysis'].values #converting to arrays\n",
        "np.unique(categories,return_counts=True)"
      ],
      "execution_count": null,
      "outputs": [
        {
          "output_type": "execute_result",
          "data": {
            "text/plain": [
              "(array(['Negative', 'Neutral', 'Positive'], dtype=object), array([26, 25, 49]))"
            ]
          },
          "metadata": {
            "tags": []
          },
          "execution_count": 39
        }
      ]
    },
    {
      "cell_type": "code",
      "metadata": {
        "colab": {
          "base_uri": "https://localhost:8080/"
        },
        "id": "2Y47M3FEYmyb",
        "outputId": "d6cdf0f1-c187-4a86-f572-bb2f7c089a9e"
      },
      "source": [
        "categories = df['Analysis'].values #converting to arrays\n",
        "unique,count_s=np.unique(categories,return_counts=True)\n",
        "print(f'Negative:{count_s[0]}')\n",
        "print(f'Neutral:{count_s[1]}')\n",
        "print(f'Positive:{count_s[2]}')"
      ],
      "execution_count": null,
      "outputs": [
        {
          "output_type": "stream",
          "text": [
            "Negative:26\n",
            "Neutral:25\n",
            "Positive:49\n"
          ],
          "name": "stdout"
        }
      ]
    },
    {
      "cell_type": "code",
      "metadata": {
        "colab": {
          "base_uri": "https://localhost:8080/",
          "height": 299
        },
        "id": "OX-TfZZuZBjK",
        "outputId": "092b11fd-439a-4266-e8df-db7c3ab65294"
      },
      "source": [
        "lable = ['Negative','Neutral','Positive']\n",
        "#plt.bar(unique,lable)\n",
        "plt.bar(lable,count_s,color='orange')"
      ],
      "execution_count": null,
      "outputs": [
        {
          "output_type": "execute_result",
          "data": {
            "text/plain": [
              "<BarContainer object of 3 artists>"
            ]
          },
          "metadata": {
            "tags": []
          },
          "execution_count": 41
        },
        {
          "output_type": "display_data",
          "data": {
            "image/png": "[encoded data removed]",
            "text/plain": [
              "<Figure size 432x288 with 1 Axes>"
            ]
          },
          "metadata": {
            "tags": []
          }
        }
      ]
    },
    {
      "cell_type": "markdown",
      "metadata": {
        "id": "w3XWu6WbVfZC"
      },
      "source": [
        "# Corralation "
      ]
    },
    {
      "cell_type": "code",
      "metadata": {
        "id": "YFb6DEWAL44a",
        "colab": {
          "base_uri": "https://localhost:8080/",
          "height": 202
        },
        "outputId": "6490368d-bdad-47d0-bcc7-30310d45bb60"
      },
      "source": [
        "news_numeric = df.select_dtypes(include = ['float64','int64'])\n",
        "news_numeric.head()"
      ],
      "execution_count": null,
      "outputs": [
        {
          "output_type": "execute_result",
          "data": {
            "text/html": [
              "<div>\n",
              "<style scoped>\n",
              "    .dataframe tbody tr th:only-of-type {\n",
              "        vertical-align: middle;\n",
              "    }\n",
              "\n",
              "    .dataframe tbody tr th {\n",
              "        vertical-align: top;\n",
              "    }\n",
              "\n",
              "    .dataframe thead th {\n",
              "        text-align: right;\n",
              "    }\n",
              "</style>\n",
              "<table border=\"1\" class=\"dataframe\">\n",
              "  <thead>\n",
              "    <tr style=\"text-align: right;\">\n",
              "      <th></th>\n",
              "      <th>subjectivity</th>\n",
              "      <th>Polarity</th>\n",
              "    </tr>\n",
              "  </thead>\n",
              "  <tbody>\n",
              "    <tr>\n",
              "      <th>0</th>\n",
              "      <td>0.000000</td>\n",
              "      <td>0.000000</td>\n",
              "    </tr>\n",
              "    <tr>\n",
              "      <th>1</th>\n",
              "      <td>0.650000</td>\n",
              "      <td>0.550000</td>\n",
              "    </tr>\n",
              "    <tr>\n",
              "      <th>2</th>\n",
              "      <td>0.500000</td>\n",
              "      <td>0.500000</td>\n",
              "    </tr>\n",
              "    <tr>\n",
              "      <th>3</th>\n",
              "      <td>0.454545</td>\n",
              "      <td>0.136364</td>\n",
              "    </tr>\n",
              "    <tr>\n",
              "      <th>4</th>\n",
              "      <td>0.200000</td>\n",
              "      <td>0.200000</td>\n",
              "    </tr>\n",
              "  </tbody>\n",
              "</table>\n",
              "</div>"
            ],
            "text/plain": [
              "   subjectivity  Polarity\n",
              "0      0.000000  0.000000\n",
              "1      0.650000  0.550000\n",
              "2      0.500000  0.500000\n",
              "3      0.454545  0.136364\n",
              "4      0.200000  0.200000"
            ]
          },
          "metadata": {
            "tags": []
          },
          "execution_count": 42
        }
      ]
    },
    {
      "cell_type": "code",
      "metadata": {
        "colab": {
          "base_uri": "https://localhost:8080/"
        },
        "id": "c3UNir9FKP_r",
        "outputId": "d9142250-94a8-4a04-abc2-b94aca654553"
      },
      "source": [
        "news_numeric.info()"
      ],
      "execution_count": null,
      "outputs": [
        {
          "output_type": "stream",
          "text": [
            "<class 'pandas.core.frame.DataFrame'>\n",
            "RangeIndex: 100 entries, 0 to 99\n",
            "Data columns (total 2 columns):\n",
            " #   Column        Non-Null Count  Dtype  \n",
            "---  ------        --------------  -----  \n",
            " 0   subjectivity  100 non-null    float64\n",
            " 1   Polarity      100 non-null    float64\n",
            "dtypes: float64(2)\n",
            "memory usage: 1.7 KB\n"
          ],
          "name": "stdout"
        }
      ]
    },
    {
      "cell_type": "code",
      "metadata": {
        "colab": {
          "base_uri": "https://localhost:8080/",
          "height": 110
        },
        "id": "yL2vG8laKYUB",
        "outputId": "aa5867c1-98ee-42e5-f3e8-fbf0fa1e5ca6"
      },
      "source": [
        "cor = news_numeric.corr()\n",
        "cor"
      ],
      "execution_count": null,
      "outputs": [
        {
          "output_type": "execute_result",
          "data": {
            "text/html": [
              "<div>\n",
              "<style scoped>\n",
              "    .dataframe tbody tr th:only-of-type {\n",
              "        vertical-align: middle;\n",
              "    }\n",
              "\n",
              "    .dataframe tbody tr th {\n",
              "        vertical-align: top;\n",
              "    }\n",
              "\n",
              "    .dataframe thead th {\n",
              "        text-align: right;\n",
              "    }\n",
              "</style>\n",
              "<table border=\"1\" class=\"dataframe\">\n",
              "  <thead>\n",
              "    <tr style=\"text-align: right;\">\n",
              "      <th></th>\n",
              "      <th>subjectivity</th>\n",
              "      <th>Polarity</th>\n",
              "    </tr>\n",
              "  </thead>\n",
              "  <tbody>\n",
              "    <tr>\n",
              "      <th>subjectivity</th>\n",
              "      <td>1.00000</td>\n",
              "      <td>-0.07219</td>\n",
              "    </tr>\n",
              "    <tr>\n",
              "      <th>Polarity</th>\n",
              "      <td>-0.07219</td>\n",
              "      <td>1.00000</td>\n",
              "    </tr>\n",
              "  </tbody>\n",
              "</table>\n",
              "</div>"
            ],
            "text/plain": [
              "              subjectivity  Polarity\n",
              "subjectivity       1.00000  -0.07219\n",
              "Polarity          -0.07219   1.00000"
            ]
          },
          "metadata": {
            "tags": []
          },
          "execution_count": 44
        }
      ]
    },
    {
      "cell_type": "markdown",
      "metadata": {
        "id": "82F15avwKS_M"
      },
      "source": [
        "# accuracy and confusion matrix"
      ]
    },
    {
      "cell_type": "code",
      "metadata": {
        "colab": {
          "base_uri": "https://localhost:8080/",
          "height": 202
        },
        "id": "ciQERCoDUbFM",
        "outputId": "377e5136-f8e6-4b27-9e06-57f1b44a9459"
      },
      "source": [
        "df.head()"
      ],
      "execution_count": null,
      "outputs": [
        {
          "output_type": "execute_result",
          "data": {
            "text/html": [
              "<div>\n",
              "<style scoped>\n",
              "    .dataframe tbody tr th:only-of-type {\n",
              "        vertical-align: middle;\n",
              "    }\n",
              "\n",
              "    .dataframe tbody tr th {\n",
              "        vertical-align: top;\n",
              "    }\n",
              "\n",
              "    .dataframe thead th {\n",
              "        text-align: right;\n",
              "    }\n",
              "</style>\n",
              "<table border=\"1\" class=\"dataframe\">\n",
              "  <thead>\n",
              "    <tr style=\"text-align: right;\">\n",
              "      <th></th>\n",
              "      <th>Tweets</th>\n",
              "      <th>subjectivity</th>\n",
              "      <th>Polarity</th>\n",
              "      <th>Analysis</th>\n",
              "    </tr>\n",
              "  </thead>\n",
              "  <tbody>\n",
              "    <tr>\n",
              "      <th>0</th>\n",
              "      <td>fda extends pfizerbiontech covid19 vaccine ref...</td>\n",
              "      <td>0.000000</td>\n",
              "      <td>0.000000</td>\n",
              "      <td>Neutral</td>\n",
              "    </tr>\n",
              "    <tr>\n",
              "      <th>1</th>\n",
              "      <td>best podcasts 2021 far httpstcokvjkwjbc20</td>\n",
              "      <td>0.650000</td>\n",
              "      <td>0.550000</td>\n",
              "      <td>Positive</td>\n",
              "    </tr>\n",
              "    <tr>\n",
              "      <th>2</th>\n",
              "      <td>fadi abu shammala I tried keep kids safe 3 bom...</td>\n",
              "      <td>0.500000</td>\n",
              "      <td>0.500000</td>\n",
              "      <td>Positive</td>\n",
              "    </tr>\n",
              "    <tr>\n",
              "      <th>3</th>\n",
              "      <td>fords new electric f150 lightning seems httpst...</td>\n",
              "      <td>0.454545</td>\n",
              "      <td>0.136364</td>\n",
              "      <td>Positive</td>\n",
              "    </tr>\n",
              "    <tr>\n",
              "      <th>4</th>\n",
              "      <td>planetdeb indian needs help get fight covid19 ...</td>\n",
              "      <td>0.200000</td>\n",
              "      <td>0.200000</td>\n",
              "      <td>Positive</td>\n",
              "    </tr>\n",
              "  </tbody>\n",
              "</table>\n",
              "</div>"
            ],
            "text/plain": [
              "                                              Tweets  ...  Analysis\n",
              "0  fda extends pfizerbiontech covid19 vaccine ref...  ...   Neutral\n",
              "1          best podcasts 2021 far httpstcokvjkwjbc20  ...  Positive\n",
              "2  fadi abu shammala I tried keep kids safe 3 bom...  ...  Positive\n",
              "3  fords new electric f150 lightning seems httpst...  ...  Positive\n",
              "4  planetdeb indian needs help get fight covid19 ...  ...  Positive\n",
              "\n",
              "[5 rows x 4 columns]"
            ]
          },
          "metadata": {
            "tags": []
          },
          "execution_count": 46
        }
      ]
    },
    {
      "cell_type": "code",
      "metadata": {
        "id": "4YSEfKrXUekH"
      },
      "source": [
        "df1 = df.drop(['subjectivity','Polarity'],axis =1)"
      ],
      "execution_count": null,
      "outputs": []
    },
    {
      "cell_type": "code",
      "metadata": {
        "colab": {
          "base_uri": "https://localhost:8080/",
          "height": 415
        },
        "id": "ORPr5wBbUrUn",
        "outputId": "aaa9a695-ff14-463f-90d9-7f1898d696c7"
      },
      "source": [
        "df1"
      ],
      "execution_count": null,
      "outputs": [
        {
          "output_type": "execute_result",
          "data": {
            "text/html": [
              "<div>\n",
              "<style scoped>\n",
              "    .dataframe tbody tr th:only-of-type {\n",
              "        vertical-align: middle;\n",
              "    }\n",
              "\n",
              "    .dataframe tbody tr th {\n",
              "        vertical-align: top;\n",
              "    }\n",
              "\n",
              "    .dataframe thead th {\n",
              "        text-align: right;\n",
              "    }\n",
              "</style>\n",
              "<table border=\"1\" class=\"dataframe\">\n",
              "  <thead>\n",
              "    <tr style=\"text-align: right;\">\n",
              "      <th></th>\n",
              "      <th>Tweets</th>\n",
              "      <th>Analysis</th>\n",
              "    </tr>\n",
              "  </thead>\n",
              "  <tbody>\n",
              "    <tr>\n",
              "      <th>0</th>\n",
              "      <td>fda extends pfizerbiontech covid19 vaccine ref...</td>\n",
              "      <td>Neutral</td>\n",
              "    </tr>\n",
              "    <tr>\n",
              "      <th>1</th>\n",
              "      <td>best podcasts 2021 far httpstcokvjkwjbc20</td>\n",
              "      <td>Positive</td>\n",
              "    </tr>\n",
              "    <tr>\n",
              "      <th>2</th>\n",
              "      <td>fadi abu shammala I tried keep kids safe 3 bom...</td>\n",
              "      <td>Positive</td>\n",
              "    </tr>\n",
              "    <tr>\n",
              "      <th>3</th>\n",
              "      <td>fords new electric f150 lightning seems httpst...</td>\n",
              "      <td>Positive</td>\n",
              "    </tr>\n",
              "    <tr>\n",
              "      <th>4</th>\n",
              "      <td>planetdeb indian needs help get fight covid19 ...</td>\n",
              "      <td>Positive</td>\n",
              "    </tr>\n",
              "    <tr>\n",
              "      <th>...</th>\n",
              "      <td>...</td>\n",
              "      <td>...</td>\n",
              "    </tr>\n",
              "    <tr>\n",
              "      <th>95</th>\n",
              "      <td>cdc clearly jumped gun new guidance leave vuln...</td>\n",
              "      <td>Negative</td>\n",
              "    </tr>\n",
              "    <tr>\n",
              "      <th>96</th>\n",
              "      <td>conflict gaza strip could lead new covid19 sur...</td>\n",
              "      <td>Positive</td>\n",
              "    </tr>\n",
              "    <tr>\n",
              "      <th>97</th>\n",
              "      <td>2020 election breakthrough moment young voters...</td>\n",
              "      <td>Positive</td>\n",
              "    </tr>\n",
              "    <tr>\n",
              "      <th>98</th>\n",
              "      <td>ayelet gundargoshen israel bleeding within res...</td>\n",
              "      <td>Positive</td>\n",
              "    </tr>\n",
              "    <tr>\n",
              "      <th>99</th>\n",
              "      <td>visited grandkids 16 months realized much pand...</td>\n",
              "      <td>Positive</td>\n",
              "    </tr>\n",
              "  </tbody>\n",
              "</table>\n",
              "<p>100 rows × 2 columns</p>\n",
              "</div>"
            ],
            "text/plain": [
              "                                               Tweets  Analysis\n",
              "0   fda extends pfizerbiontech covid19 vaccine ref...   Neutral\n",
              "1           best podcasts 2021 far httpstcokvjkwjbc20  Positive\n",
              "2   fadi abu shammala I tried keep kids safe 3 bom...  Positive\n",
              "3   fords new electric f150 lightning seems httpst...  Positive\n",
              "4   planetdeb indian needs help get fight covid19 ...  Positive\n",
              "..                                                ...       ...\n",
              "95  cdc clearly jumped gun new guidance leave vuln...  Negative\n",
              "96  conflict gaza strip could lead new covid19 sur...  Positive\n",
              "97  2020 election breakthrough moment young voters...  Positive\n",
              "98  ayelet gundargoshen israel bleeding within res...  Positive\n",
              "99  visited grandkids 16 months realized much pand...  Positive\n",
              "\n",
              "[100 rows x 2 columns]"
            ]
          },
          "metadata": {
            "tags": []
          },
          "execution_count": 48
        }
      ]
    },
    {
      "cell_type": "code",
      "metadata": {
        "colab": {
          "base_uri": "https://localhost:8080/"
        },
        "id": "01Q8o0-ySFi4",
        "outputId": "725ae42c-36e3-4b40-9d47-0014fc1e83b1"
      },
      "source": [
        "!pip install vaderSentiment"
      ],
      "execution_count": null,
      "outputs": [
        {
          "output_type": "stream",
          "text": [
            "Collecting vaderSentiment\n",
            "\u001b[?25l  Downloading https://files.pythonhosted.org/packages/76/fc/310e16254683c1ed35eeb97386986d6c00bc29df17ce280aed64d55537e9/vaderSentiment-3.3.2-py2.py3-none-any.whl (125kB)\n",
            "\u001b[K     |████████████████████████████████| 133kB 4.0MB/s \n",
            "\u001b[?25hRequirement already satisfied: requests in /usr/local/lib/python3.7/dist-packages (from vaderSentiment) (2.23.0)\n",
            "Requirement already satisfied: chardet<4,>=3.0.2 in /usr/local/lib/python3.7/dist-packages (from requests->vaderSentiment) (3.0.4)\n",
            "Requirement already satisfied: certifi>=2017.4.17 in /usr/local/lib/python3.7/dist-packages (from requests->vaderSentiment) (2020.12.5)\n",
            "Requirement already satisfied: idna<3,>=2.5 in /usr/local/lib/python3.7/dist-packages (from requests->vaderSentiment) (2.10)\n",
            "Requirement already satisfied: urllib3!=1.25.0,!=1.25.1,<1.26,>=1.21.1 in /usr/local/lib/python3.7/dist-packages (from requests->vaderSentiment) (1.24.3)\n",
            "Installing collected packages: vaderSentiment\n",
            "Successfully installed vaderSentiment-3.3.2\n"
          ],
          "name": "stdout"
        }
      ]
    },
    {
      "cell_type": "code",
      "metadata": {
        "id": "fR__YleOR-7c"
      },
      "source": [
        "from vaderSentiment.vaderSentiment import SentimentIntensityAnalyzer\n",
        "vs = SentimentIntensityAnalyzer()"
      ],
      "execution_count": null,
      "outputs": []
    },
    {
      "cell_type": "code",
      "metadata": {
        "id": "ZuVk5SHiSMOw"
      },
      "source": [
        "df1['compound'] = df1['Tweets'].apply(lambda x: vs.polarity_scores(x)['compound'])"
      ],
      "execution_count": null,
      "outputs": []
    },
    {
      "cell_type": "code",
      "metadata": {
        "colab": {
          "base_uri": "https://localhost:8080/",
          "height": 202
        },
        "id": "m-o1BMLhSR1T",
        "outputId": "28529c06-0921-40b4-915e-d533e9e62251"
      },
      "source": [
        "df1.head()"
      ],
      "execution_count": null,
      "outputs": [
        {
          "output_type": "execute_result",
          "data": {
            "text/html": [
              "<div>\n",
              "<style scoped>\n",
              "    .dataframe tbody tr th:only-of-type {\n",
              "        vertical-align: middle;\n",
              "    }\n",
              "\n",
              "    .dataframe tbody tr th {\n",
              "        vertical-align: top;\n",
              "    }\n",
              "\n",
              "    .dataframe thead th {\n",
              "        text-align: right;\n",
              "    }\n",
              "</style>\n",
              "<table border=\"1\" class=\"dataframe\">\n",
              "  <thead>\n",
              "    <tr style=\"text-align: right;\">\n",
              "      <th></th>\n",
              "      <th>Tweets</th>\n",
              "      <th>Analysis</th>\n",
              "      <th>compound</th>\n",
              "    </tr>\n",
              "  </thead>\n",
              "  <tbody>\n",
              "    <tr>\n",
              "      <th>0</th>\n",
              "      <td>fda extends pfizerbiontech covid19 vaccine ref...</td>\n",
              "      <td>Neutral</td>\n",
              "      <td>0.1280</td>\n",
              "    </tr>\n",
              "    <tr>\n",
              "      <th>1</th>\n",
              "      <td>best podcasts 2021 far httpstcokvjkwjbc20</td>\n",
              "      <td>Positive</td>\n",
              "      <td>0.6369</td>\n",
              "    </tr>\n",
              "    <tr>\n",
              "      <th>2</th>\n",
              "      <td>fadi abu shammala I tried keep kids safe 3 bom...</td>\n",
              "      <td>Positive</td>\n",
              "      <td>0.1999</td>\n",
              "    </tr>\n",
              "    <tr>\n",
              "      <th>3</th>\n",
              "      <td>fords new electric f150 lightning seems httpst...</td>\n",
              "      <td>Positive</td>\n",
              "      <td>0.0000</td>\n",
              "    </tr>\n",
              "    <tr>\n",
              "      <th>4</th>\n",
              "      <td>planetdeb indian needs help get fight covid19 ...</td>\n",
              "      <td>Positive</td>\n",
              "      <td>0.0258</td>\n",
              "    </tr>\n",
              "  </tbody>\n",
              "</table>\n",
              "</div>"
            ],
            "text/plain": [
              "                                              Tweets  Analysis  compound\n",
              "0  fda extends pfizerbiontech covid19 vaccine ref...   Neutral    0.1280\n",
              "1          best podcasts 2021 far httpstcokvjkwjbc20  Positive    0.6369\n",
              "2  fadi abu shammala I tried keep kids safe 3 bom...  Positive    0.1999\n",
              "3  fords new electric f150 lightning seems httpst...  Positive    0.0000\n",
              "4  planetdeb indian needs help get fight covid19 ...  Positive    0.0258"
            ]
          },
          "metadata": {
            "tags": []
          },
          "execution_count": 52
        }
      ]
    },
    {
      "cell_type": "code",
      "metadata": {
        "colab": {
          "base_uri": "https://localhost:8080/",
          "height": 35
        },
        "id": "bVi_lhrxSbL-",
        "outputId": "48fc0b67-15d8-4ee8-da12-951ed75c667c"
      },
      "source": [
        "df1.Tweets[3]"
      ],
      "execution_count": null,
      "outputs": [
        {
          "output_type": "execute_result",
          "data": {
            "application/vnd.google.colaboratory.intrinsic+json": {
              "type": "string"
            },
            "text/plain": [
              "'fords new electric f150 lightning seems httpstcolktyen2ewx'"
            ]
          },
          "metadata": {
            "tags": []
          },
          "execution_count": 53
        }
      ]
    },
    {
      "cell_type": "code",
      "metadata": {
        "colab": {
          "base_uri": "https://localhost:8080/",
          "height": 907
        },
        "id": "Hi1L3oDcShsc",
        "outputId": "a18aa764-603b-4a8f-ff7a-4911be5e9f2c"
      },
      "source": [
        "\n",
        "df1[df1['compound'] == 0 ]"
      ],
      "execution_count": null,
      "outputs": [
        {
          "output_type": "execute_result",
          "data": {
            "text/html": [
              "<div>\n",
              "<style scoped>\n",
              "    .dataframe tbody tr th:only-of-type {\n",
              "        vertical-align: middle;\n",
              "    }\n",
              "\n",
              "    .dataframe tbody tr th {\n",
              "        vertical-align: top;\n",
              "    }\n",
              "\n",
              "    .dataframe thead th {\n",
              "        text-align: right;\n",
              "    }\n",
              "</style>\n",
              "<table border=\"1\" class=\"dataframe\">\n",
              "  <thead>\n",
              "    <tr style=\"text-align: right;\">\n",
              "      <th></th>\n",
              "      <th>Tweets</th>\n",
              "      <th>Analysis</th>\n",
              "      <th>compound</th>\n",
              "    </tr>\n",
              "  </thead>\n",
              "  <tbody>\n",
              "    <tr>\n",
              "      <th>3</th>\n",
              "      <td>fords new electric f150 lightning seems httpst...</td>\n",
              "      <td>Positive</td>\n",
              "      <td>0.0</td>\n",
              "    </tr>\n",
              "    <tr>\n",
              "      <th>5</th>\n",
              "      <td>china cracking untouchable tech titans httpstc...</td>\n",
              "      <td>Neutral</td>\n",
              "      <td>0.0</td>\n",
              "    </tr>\n",
              "    <tr>\n",
              "      <th>15</th>\n",
              "      <td>2020 election breakthrough moment young voters...</td>\n",
              "      <td>Positive</td>\n",
              "      <td>0.0</td>\n",
              "    </tr>\n",
              "    <tr>\n",
              "      <th>22</th>\n",
              "      <td>visited grandkids 16 months realized much pand...</td>\n",
              "      <td>Positive</td>\n",
              "      <td>0.0</td>\n",
              "    </tr>\n",
              "    <tr>\n",
              "      <th>23</th>\n",
              "      <td>anthony fauci 100 days biden administration fi...</td>\n",
              "      <td>Neutral</td>\n",
              "      <td>0.0</td>\n",
              "    </tr>\n",
              "    <tr>\n",
              "      <th>25</th>\n",
              "      <td>gets wear headscarf complicated history behind...</td>\n",
              "      <td>Negative</td>\n",
              "      <td>0.0</td>\n",
              "    </tr>\n",
              "    <tr>\n",
              "      <th>26</th>\n",
              "      <td>know woman window movie adaptation hits netfli...</td>\n",
              "      <td>Neutral</td>\n",
              "      <td>0.0</td>\n",
              "    </tr>\n",
              "    <tr>\n",
              "      <th>27</th>\n",
              "      <td>china cracking untouchable tech titans httpstc...</td>\n",
              "      <td>Neutral</td>\n",
              "      <td>0.0</td>\n",
              "    </tr>\n",
              "    <tr>\n",
              "      <th>29</th>\n",
              "      <td>animated guide years massive brood x cicada em...</td>\n",
              "      <td>Neutral</td>\n",
              "      <td>0.0</td>\n",
              "    </tr>\n",
              "    <tr>\n",
              "      <th>39</th>\n",
              "      <td>know summit joe biden moon jaein httpstcohxcnm...</td>\n",
              "      <td>Neutral</td>\n",
              "      <td>0.0</td>\n",
              "    </tr>\n",
              "    <tr>\n",
              "      <th>42</th>\n",
              "      <td>2020 election breakthrough moment young voters...</td>\n",
              "      <td>Positive</td>\n",
              "      <td>0.0</td>\n",
              "    </tr>\n",
              "    <tr>\n",
              "      <th>44</th>\n",
              "      <td>george washington organized first largescale i...</td>\n",
              "      <td>Positive</td>\n",
              "      <td>0.0</td>\n",
              "    </tr>\n",
              "    <tr>\n",
              "      <th>46</th>\n",
              "      <td>visited grandkids 16 months realized much pand...</td>\n",
              "      <td>Positive</td>\n",
              "      <td>0.0</td>\n",
              "    </tr>\n",
              "    <tr>\n",
              "      <th>48</th>\n",
              "      <td>china says provide covid19 vaccines almost 40 ...</td>\n",
              "      <td>Neutral</td>\n",
              "      <td>0.0</td>\n",
              "    </tr>\n",
              "    <tr>\n",
              "      <th>51</th>\n",
              "      <td>anticipated movies summer 2021 black widow can...</td>\n",
              "      <td>Negative</td>\n",
              "      <td>0.0</td>\n",
              "    </tr>\n",
              "    <tr>\n",
              "      <th>54</th>\n",
              "      <td>gets wear headscarf complicated history behind...</td>\n",
              "      <td>Negative</td>\n",
              "      <td>0.0</td>\n",
              "    </tr>\n",
              "    <tr>\n",
              "      <th>55</th>\n",
              "      <td>yous military presence greenland since 1941 yo...</td>\n",
              "      <td>Positive</td>\n",
              "      <td>0.0</td>\n",
              "    </tr>\n",
              "    <tr>\n",
              "      <th>66</th>\n",
              "      <td>photo series accompanying documentary titled m...</td>\n",
              "      <td>Neutral</td>\n",
              "      <td>0.0</td>\n",
              "    </tr>\n",
              "    <tr>\n",
              "      <th>70</th>\n",
              "      <td>12 new books read may httpstcomitlawoff9</td>\n",
              "      <td>Positive</td>\n",
              "      <td>0.0</td>\n",
              "    </tr>\n",
              "    <tr>\n",
              "      <th>71</th>\n",
              "      <td>visited grandkids 16 months realized much pand...</td>\n",
              "      <td>Positive</td>\n",
              "      <td>0.0</td>\n",
              "    </tr>\n",
              "    <tr>\n",
              "      <th>78</th>\n",
              "      <td>animated guide years massive brood x cicada em...</td>\n",
              "      <td>Neutral</td>\n",
              "      <td>0.0</td>\n",
              "    </tr>\n",
              "    <tr>\n",
              "      <th>80</th>\n",
              "      <td>anticipated movies summer 2021 black widow can...</td>\n",
              "      <td>Negative</td>\n",
              "      <td>0.0</td>\n",
              "    </tr>\n",
              "    <tr>\n",
              "      <th>81</th>\n",
              "      <td>yous military presence greenland since 1941 yo...</td>\n",
              "      <td>Positive</td>\n",
              "      <td>0.0</td>\n",
              "    </tr>\n",
              "    <tr>\n",
              "      <th>82</th>\n",
              "      <td>gets wear headscarf complicated history behind...</td>\n",
              "      <td>Negative</td>\n",
              "      <td>0.0</td>\n",
              "    </tr>\n",
              "    <tr>\n",
              "      <th>87</th>\n",
              "      <td>know summit joe biden moon jaein httpstcox1hgz...</td>\n",
              "      <td>Neutral</td>\n",
              "      <td>0.0</td>\n",
              "    </tr>\n",
              "    <tr>\n",
              "      <th>88</th>\n",
              "      <td>anthony fauci 100 days biden administration fi...</td>\n",
              "      <td>Neutral</td>\n",
              "      <td>0.0</td>\n",
              "    </tr>\n",
              "    <tr>\n",
              "      <th>97</th>\n",
              "      <td>2020 election breakthrough moment young voters...</td>\n",
              "      <td>Positive</td>\n",
              "      <td>0.0</td>\n",
              "    </tr>\n",
              "    <tr>\n",
              "      <th>99</th>\n",
              "      <td>visited grandkids 16 months realized much pand...</td>\n",
              "      <td>Positive</td>\n",
              "      <td>0.0</td>\n",
              "    </tr>\n",
              "  </tbody>\n",
              "</table>\n",
              "</div>"
            ],
            "text/plain": [
              "                                               Tweets  Analysis  compound\n",
              "3   fords new electric f150 lightning seems httpst...  Positive       0.0\n",
              "5   china cracking untouchable tech titans httpstc...   Neutral       0.0\n",
              "15  2020 election breakthrough moment young voters...  Positive       0.0\n",
              "22  visited grandkids 16 months realized much pand...  Positive       0.0\n",
              "23  anthony fauci 100 days biden administration fi...   Neutral       0.0\n",
              "25  gets wear headscarf complicated history behind...  Negative       0.0\n",
              "26  know woman window movie adaptation hits netfli...   Neutral       0.0\n",
              "27  china cracking untouchable tech titans httpstc...   Neutral       0.0\n",
              "29  animated guide years massive brood x cicada em...   Neutral       0.0\n",
              "39  know summit joe biden moon jaein httpstcohxcnm...   Neutral       0.0\n",
              "42  2020 election breakthrough moment young voters...  Positive       0.0\n",
              "44  george washington organized first largescale i...  Positive       0.0\n",
              "46  visited grandkids 16 months realized much pand...  Positive       0.0\n",
              "48  china says provide covid19 vaccines almost 40 ...   Neutral       0.0\n",
              "51  anticipated movies summer 2021 black widow can...  Negative       0.0\n",
              "54  gets wear headscarf complicated history behind...  Negative       0.0\n",
              "55  yous military presence greenland since 1941 yo...  Positive       0.0\n",
              "66  photo series accompanying documentary titled m...   Neutral       0.0\n",
              "70           12 new books read may httpstcomitlawoff9  Positive       0.0\n",
              "71  visited grandkids 16 months realized much pand...  Positive       0.0\n",
              "78  animated guide years massive brood x cicada em...   Neutral       0.0\n",
              "80  anticipated movies summer 2021 black widow can...  Negative       0.0\n",
              "81  yous military presence greenland since 1941 yo...  Positive       0.0\n",
              "82  gets wear headscarf complicated history behind...  Negative       0.0\n",
              "87  know summit joe biden moon jaein httpstcox1hgz...   Neutral       0.0\n",
              "88  anthony fauci 100 days biden administration fi...   Neutral       0.0\n",
              "97  2020 election breakthrough moment young voters...  Positive       0.0\n",
              "99  visited grandkids 16 months realized much pand...  Positive       0.0"
            ]
          },
          "metadata": {
            "tags": []
          },
          "execution_count": 54
        }
      ]
    },
    {
      "cell_type": "code",
      "metadata": {
        "colab": {
          "base_uri": "https://localhost:8080/",
          "height": 202
        },
        "id": "87Ttus_oRuI5",
        "outputId": "0af70c50-b1c0-47cb-80ef-193424b27ef2"
      },
      "source": [
        "df1['pred'] = df1['compound'].apply(lambda x : 'pos' if x>0  else ('neu' if x==0 else 'neg'))\n",
        "df1.head(5)"
      ],
      "execution_count": null,
      "outputs": [
        {
          "output_type": "execute_result",
          "data": {
            "text/html": [
              "<div>\n",
              "<style scoped>\n",
              "    .dataframe tbody tr th:only-of-type {\n",
              "        vertical-align: middle;\n",
              "    }\n",
              "\n",
              "    .dataframe tbody tr th {\n",
              "        vertical-align: top;\n",
              "    }\n",
              "\n",
              "    .dataframe thead th {\n",
              "        text-align: right;\n",
              "    }\n",
              "</style>\n",
              "<table border=\"1\" class=\"dataframe\">\n",
              "  <thead>\n",
              "    <tr style=\"text-align: right;\">\n",
              "      <th></th>\n",
              "      <th>Tweets</th>\n",
              "      <th>Analysis</th>\n",
              "      <th>compound</th>\n",
              "      <th>pred</th>\n",
              "    </tr>\n",
              "  </thead>\n",
              "  <tbody>\n",
              "    <tr>\n",
              "      <th>0</th>\n",
              "      <td>fda extends pfizerbiontech covid19 vaccine ref...</td>\n",
              "      <td>Neutral</td>\n",
              "      <td>0.1280</td>\n",
              "      <td>pos</td>\n",
              "    </tr>\n",
              "    <tr>\n",
              "      <th>1</th>\n",
              "      <td>best podcasts 2021 far httpstcokvjkwjbc20</td>\n",
              "      <td>Positive</td>\n",
              "      <td>0.6369</td>\n",
              "      <td>pos</td>\n",
              "    </tr>\n",
              "    <tr>\n",
              "      <th>2</th>\n",
              "      <td>fadi abu shammala I tried keep kids safe 3 bom...</td>\n",
              "      <td>Positive</td>\n",
              "      <td>0.1999</td>\n",
              "      <td>pos</td>\n",
              "    </tr>\n",
              "    <tr>\n",
              "      <th>3</th>\n",
              "      <td>fords new electric f150 lightning seems httpst...</td>\n",
              "      <td>Positive</td>\n",
              "      <td>0.0000</td>\n",
              "      <td>neu</td>\n",
              "    </tr>\n",
              "    <tr>\n",
              "      <th>4</th>\n",
              "      <td>planetdeb indian needs help get fight covid19 ...</td>\n",
              "      <td>Positive</td>\n",
              "      <td>0.0258</td>\n",
              "      <td>pos</td>\n",
              "    </tr>\n",
              "  </tbody>\n",
              "</table>\n",
              "</div>"
            ],
            "text/plain": [
              "                                              Tweets  Analysis  compound pred\n",
              "0  fda extends pfizerbiontech covid19 vaccine ref...   Neutral    0.1280  pos\n",
              "1          best podcasts 2021 far httpstcokvjkwjbc20  Positive    0.6369  pos\n",
              "2  fadi abu shammala I tried keep kids safe 3 bom...  Positive    0.1999  pos\n",
              "3  fords new electric f150 lightning seems httpst...  Positive    0.0000  neu\n",
              "4  planetdeb indian needs help get fight covid19 ...  Positive    0.0258  pos"
            ]
          },
          "metadata": {
            "tags": []
          },
          "execution_count": 55
        }
      ]
    },
    {
      "cell_type": "code",
      "metadata": {
        "id": "pS8oBJNhQ5OK"
      },
      "source": [
        "x = df1.iloc[:,0].values\n",
        "y = df1.iloc[:,1].values"
      ],
      "execution_count": null,
      "outputs": []
    },
    {
      "cell_type": "markdown",
      "metadata": {
        "id": "sh5wYXEqohP1"
      },
      "source": [
        "# Spliting the data to train and test"
      ]
    },
    {
      "cell_type": "code",
      "metadata": {
        "id": "ws9xezvMRCZZ"
      },
      "source": [
        "from sklearn.model_selection import train_test_split\n",
        "x_train,x_test,y_train,y_test = train_test_split(x,y,random_state=0)"
      ],
      "execution_count": null,
      "outputs": []
    },
    {
      "cell_type": "code",
      "metadata": {
        "colab": {
          "base_uri": "https://localhost:8080/"
        },
        "id": "4MmPvlYzRNLh",
        "outputId": "7105fa77-c960-4c70-826f-5126c1396c54"
      },
      "source": [
        "print(x_train.shape)\n",
        "print(x_test.shape)"
      ],
      "execution_count": null,
      "outputs": [
        {
          "output_type": "stream",
          "text": [
            "(75,)\n",
            "(25,)\n"
          ],
          "name": "stdout"
        }
      ]
    },
    {
      "cell_type": "code",
      "metadata": {
        "colab": {
          "base_uri": "https://localhost:8080/"
        },
        "id": "4-DyoE2CRjYa",
        "outputId": "37b144ab-a784-457b-a610-0874d6823af8"
      },
      "source": [
        "import numpy as np\n",
        "np.unique(y_train,return_counts=True)"
      ],
      "execution_count": null,
      "outputs": [
        {
          "output_type": "execute_result",
          "data": {
            "text/plain": [
              "(array(['Negative', 'Neutral', 'Positive'], dtype=object), array([18, 21, 36]))"
            ]
          },
          "metadata": {
            "tags": []
          },
          "execution_count": 59
        }
      ]
    },
    {
      "cell_type": "code",
      "metadata": {
        "colab": {
          "base_uri": "https://localhost:8080/"
        },
        "id": "3jkho0cQWXrO",
        "outputId": "bfb2f969-a93d-4d10-bbef-fe915b9764d1"
      },
      "source": [
        "np.unique(y_test,return_counts=True)"
      ],
      "execution_count": null,
      "outputs": [
        {
          "output_type": "execute_result",
          "data": {
            "text/plain": [
              "(array(['Negative', 'Neutral', 'Positive'], dtype=object), array([ 8,  4, 13]))"
            ]
          },
          "metadata": {
            "tags": []
          },
          "execution_count": 60
        }
      ]
    },
    {
      "cell_type": "markdown",
      "metadata": {
        "id": "EYQJJV4wWr2u"
      },
      "source": [
        "# SVM Algorithm"
      ]
    },
    {
      "cell_type": "code",
      "metadata": {
        "id": "bnW8ymWLROnw"
      },
      "source": [
        "from sklearn.feature_extraction.text import TfidfVectorizer\n",
        "from sklearn.svm import SVC\n",
        "from sklearn.pipeline import Pipeline"
      ],
      "execution_count": null,
      "outputs": []
    },
    {
      "cell_type": "code",
      "metadata": {
        "id": "gyAVpDg0RRCI"
      },
      "source": [
        "model = Pipeline([('vect',TfidfVectorizer()),\n",
        "                   ('model',SVC())])"
      ],
      "execution_count": null,
      "outputs": []
    },
    {
      "cell_type": "code",
      "metadata": {
        "colab": {
          "base_uri": "https://localhost:8080/"
        },
        "id": "ae88gqGRRSiX",
        "outputId": "a4fc0cd4-3e9a-4f06-f757-aa5eeadd3f4b"
      },
      "source": [
        "model.fit(x_train,y_train)"
      ],
      "execution_count": null,
      "outputs": [
        {
          "output_type": "execute_result",
          "data": {
            "text/plain": [
              "Pipeline(memory=None,\n",
              "         steps=[('vect',\n",
              "                 TfidfVectorizer(analyzer='word', binary=False,\n",
              "                                 decode_error='strict',\n",
              "                                 dtype=<class 'numpy.float64'>,\n",
              "                                 encoding='utf-8', input='content',\n",
              "                                 lowercase=True, max_df=1.0, max_features=None,\n",
              "                                 min_df=1, ngram_range=(1, 1), norm='l2',\n",
              "                                 preprocessor=None, smooth_idf=True,\n",
              "                                 stop_words=None, strip_accents=None,\n",
              "                                 sublinear_tf=False,\n",
              "                                 token_pattern='(?u)\\\\b\\\\w\\\\w+\\\\b',\n",
              "                                 tokenizer=None, use_idf=True,\n",
              "                                 vocabulary=None)),\n",
              "                ('model',\n",
              "                 SVC(C=1.0, break_ties=False, cache_size=200, class_weight=None,\n",
              "                     coef0=0.0, decision_function_shape='ovr', degree=3,\n",
              "                     gamma='scale', kernel='rbf', max_iter=-1,\n",
              "                     probability=False, random_state=None, shrinking=True,\n",
              "                     tol=0.001, verbose=False))],\n",
              "         verbose=False)"
            ]
          },
          "metadata": {
            "tags": []
          },
          "execution_count": 63
        }
      ]
    },
    {
      "cell_type": "code",
      "metadata": {
        "id": "xuyHl-HDRUZQ"
      },
      "source": [
        "y_pred = model.predict(x_test)"
      ],
      "execution_count": null,
      "outputs": []
    },
    {
      "cell_type": "code",
      "metadata": {
        "id": "JrgDEKFoVbUY"
      },
      "source": [
        "from sklearn.metrics import accuracy_score,confusion_matrix"
      ],
      "execution_count": null,
      "outputs": []
    },
    {
      "cell_type": "code",
      "metadata": {
        "colab": {
          "base_uri": "https://localhost:8080/"
        },
        "id": "O5-f7YFkVdDG",
        "outputId": "4001af10-c35d-475d-a5fa-92ddf3614421"
      },
      "source": [
        "accuracy_score(y_pred,y_test)"
      ],
      "execution_count": null,
      "outputs": [
        {
          "output_type": "execute_result",
          "data": {
            "text/plain": [
              "0.72"
            ]
          },
          "metadata": {
            "tags": []
          },
          "execution_count": 66
        }
      ]
    },
    {
      "cell_type": "code",
      "metadata": {
        "colab": {
          "base_uri": "https://localhost:8080/"
        },
        "id": "5pHviF5rVep_",
        "outputId": "cd9620ae-0378-4ca5-e414-ccd48175f5d8"
      },
      "source": [
        "confusion_matrix(y_pred,y_test)"
      ],
      "execution_count": null,
      "outputs": [
        {
          "output_type": "execute_result",
          "data": {
            "text/plain": [
              "array([[ 3,  0,  0],\n",
              "       [ 0,  2,  0],\n",
              "       [ 5,  2, 13]])"
            ]
          },
          "metadata": {
            "tags": []
          },
          "execution_count": 67
        }
      ]
    },
    {
      "cell_type": "code",
      "metadata": {
        "colab": {
          "base_uri": "https://localhost:8080/"
        },
        "id": "R4kM_3lDVhP_",
        "outputId": "c1652ffe-408b-4603-f243-b49e8236f406"
      },
      "source": [
        "ynew = model.predict(['good people and good world'])\n",
        "ynew"
      ],
      "execution_count": null,
      "outputs": [
        {
          "output_type": "execute_result",
          "data": {
            "text/plain": [
              "array(['Positive'], dtype=object)"
            ]
          },
          "metadata": {
            "tags": []
          },
          "execution_count": 68
        }
      ]
    },
    {
      "cell_type": "markdown",
      "metadata": {
        "id": "qZN7MmBZZ7ua"
      },
      "source": [
        "# Decission tree Algorithm"
      ]
    },
    {
      "cell_type": "code",
      "metadata": {
        "colab": {
          "base_uri": "https://localhost:8080/",
          "height": 202
        },
        "id": "RqEz3EvVsEUg",
        "outputId": "31af5c77-3738-4bdb-e0da-e628165d3c55"
      },
      "source": [
        "df1.head()"
      ],
      "execution_count": null,
      "outputs": [
        {
          "output_type": "execute_result",
          "data": {
            "text/html": [
              "<div>\n",
              "<style scoped>\n",
              "    .dataframe tbody tr th:only-of-type {\n",
              "        vertical-align: middle;\n",
              "    }\n",
              "\n",
              "    .dataframe tbody tr th {\n",
              "        vertical-align: top;\n",
              "    }\n",
              "\n",
              "    .dataframe thead th {\n",
              "        text-align: right;\n",
              "    }\n",
              "</style>\n",
              "<table border=\"1\" class=\"dataframe\">\n",
              "  <thead>\n",
              "    <tr style=\"text-align: right;\">\n",
              "      <th></th>\n",
              "      <th>Tweets</th>\n",
              "      <th>Analysis</th>\n",
              "      <th>compound</th>\n",
              "      <th>pred</th>\n",
              "    </tr>\n",
              "  </thead>\n",
              "  <tbody>\n",
              "    <tr>\n",
              "      <th>0</th>\n",
              "      <td>fda extends pfizerbiontech covid19 vaccine ref...</td>\n",
              "      <td>Neutral</td>\n",
              "      <td>0.1280</td>\n",
              "      <td>pos</td>\n",
              "    </tr>\n",
              "    <tr>\n",
              "      <th>1</th>\n",
              "      <td>best podcasts 2021 far httpstcokvjkwjbc20</td>\n",
              "      <td>Positive</td>\n",
              "      <td>0.6369</td>\n",
              "      <td>pos</td>\n",
              "    </tr>\n",
              "    <tr>\n",
              "      <th>2</th>\n",
              "      <td>fadi abu shammala I tried keep kids safe 3 bom...</td>\n",
              "      <td>Positive</td>\n",
              "      <td>0.1999</td>\n",
              "      <td>pos</td>\n",
              "    </tr>\n",
              "    <tr>\n",
              "      <th>3</th>\n",
              "      <td>fords new electric f150 lightning seems httpst...</td>\n",
              "      <td>Positive</td>\n",
              "      <td>0.0000</td>\n",
              "      <td>neu</td>\n",
              "    </tr>\n",
              "    <tr>\n",
              "      <th>4</th>\n",
              "      <td>planetdeb indian needs help get fight covid19 ...</td>\n",
              "      <td>Positive</td>\n",
              "      <td>0.0258</td>\n",
              "      <td>pos</td>\n",
              "    </tr>\n",
              "  </tbody>\n",
              "</table>\n",
              "</div>"
            ],
            "text/plain": [
              "                                              Tweets  Analysis  compound pred\n",
              "0  fda extends pfizerbiontech covid19 vaccine ref...   Neutral    0.1280  pos\n",
              "1          best podcasts 2021 far httpstcokvjkwjbc20  Positive    0.6369  pos\n",
              "2  fadi abu shammala I tried keep kids safe 3 bom...  Positive    0.1999  pos\n",
              "3  fords new electric f150 lightning seems httpst...  Positive    0.0000  neu\n",
              "4  planetdeb indian needs help get fight covid19 ...  Positive    0.0258  pos"
            ]
          },
          "metadata": {
            "tags": []
          },
          "execution_count": 69
        }
      ]
    },
    {
      "cell_type": "code",
      "metadata": {
        "id": "KKA5cRIrxV3Z"
      },
      "source": [
        "from sklearn import datasets\n",
        "from sklearn.tree import DecisionTreeClassifier\n",
        "from sklearn.metrics import confusion_matrix\n",
        "from sklearn.model_selection import train_test_split"
      ],
      "execution_count": null,
      "outputs": []
    },
    {
      "cell_type": "code",
      "metadata": {
        "id": "l_5YpQhSx4y2"
      },
      "source": [
        "model1= Pipeline([('vect',TfidfVectorizer()),\n",
        "                   ('model', DecisionTreeClassifier())])"
      ],
      "execution_count": null,
      "outputs": []
    },
    {
      "cell_type": "code",
      "metadata": {
        "colab": {
          "base_uri": "https://localhost:8080/"
        },
        "id": "H-rnPwfNzDYV",
        "outputId": "a92be9c4-cfe1-4ca6-e720-dc00512d4ed8"
      },
      "source": [
        "model1.fit(x_train,y_train)"
      ],
      "execution_count": null,
      "outputs": [
        {
          "output_type": "execute_result",
          "data": {
            "text/plain": [
              "Pipeline(memory=None,\n",
              "         steps=[('vect',\n",
              "                 TfidfVectorizer(analyzer='word', binary=False,\n",
              "                                 decode_error='strict',\n",
              "                                 dtype=<class 'numpy.float64'>,\n",
              "                                 encoding='utf-8', input='content',\n",
              "                                 lowercase=True, max_df=1.0, max_features=None,\n",
              "                                 min_df=1, ngram_range=(1, 1), norm='l2',\n",
              "                                 preprocessor=None, smooth_idf=True,\n",
              "                                 stop_words=None, strip_accents=None,\n",
              "                                 sublinear_tf=False,\n",
              "                                 token_pattern='(...\n",
              "                                 tokenizer=None, use_idf=True,\n",
              "                                 vocabulary=None)),\n",
              "                ('model',\n",
              "                 DecisionTreeClassifier(ccp_alpha=0.0, class_weight=None,\n",
              "                                        criterion='gini', max_depth=None,\n",
              "                                        max_features=None, max_leaf_nodes=None,\n",
              "                                        min_impurity_decrease=0.0,\n",
              "                                        min_impurity_split=None,\n",
              "                                        min_samples_leaf=1, min_samples_split=2,\n",
              "                                        min_weight_fraction_leaf=0.0,\n",
              "                                        presort='deprecated', random_state=None,\n",
              "                                        splitter='best'))],\n",
              "         verbose=False)"
            ]
          },
          "metadata": {
            "tags": []
          },
          "execution_count": 72
        }
      ]
    },
    {
      "cell_type": "code",
      "metadata": {
        "id": "5hIp0JDyzGH9"
      },
      "source": [
        "y_pred = model1.predict(x_test)"
      ],
      "execution_count": null,
      "outputs": []
    },
    {
      "cell_type": "code",
      "metadata": {
        "id": "O3KqDSH80T8w"
      },
      "source": [
        "from sklearn.metrics import accuracy_score,confusion_matrix"
      ],
      "execution_count": null,
      "outputs": []
    },
    {
      "cell_type": "code",
      "metadata": {
        "colab": {
          "base_uri": "https://localhost:8080/"
        },
        "id": "_fOTbwmL0XBt",
        "outputId": "db870006-1a4f-46f5-dc7b-febc4b91579f"
      },
      "source": [
        "accuracy_score(y_pred,y_test)"
      ],
      "execution_count": null,
      "outputs": [
        {
          "output_type": "execute_result",
          "data": {
            "text/plain": [
              "0.6"
            ]
          },
          "metadata": {
            "tags": []
          },
          "execution_count": 75
        }
      ]
    },
    {
      "cell_type": "code",
      "metadata": {
        "colab": {
          "base_uri": "https://localhost:8080/"
        },
        "id": "87krqMqN0bVN",
        "outputId": "6ebf87c2-c500-4388-a827-7bbb3b25b2c5"
      },
      "source": [
        "confusion_matrix(y_pred,y_test)"
      ],
      "execution_count": null,
      "outputs": [
        {
          "output_type": "execute_result",
          "data": {
            "text/plain": [
              "array([[3, 0, 0],\n",
              "       [0, 3, 4],\n",
              "       [5, 1, 9]])"
            ]
          },
          "metadata": {
            "tags": []
          },
          "execution_count": 76
        }
      ]
    },
    {
      "cell_type": "code",
      "metadata": {
        "id": "TlUZNGJS6b9s",
        "colab": {
          "base_uri": "https://localhost:8080/",
          "height": 401
        },
        "outputId": "d21ad732-5cce-4afd-8efa-8c5c2a538ba8"
      },
      "source": [
        "sns.catplot(x ='pred',data=df1,kind ='count')"
      ],
      "execution_count": null,
      "outputs": [
        {
          "output_type": "execute_result",
          "data": {
            "text/plain": [
              "<seaborn.axisgrid.FacetGrid at 0x7eff46ac64d0>"
            ]
          },
          "metadata": {
            "tags": []
          },
          "execution_count": 77
        },
        {
          "output_type": "display_data",
          "data": {
            "image/png": "[encoded data removed]",
            "text/plain": [
              "<Figure size 360x360 with 1 Axes>"
            ]
          },
          "metadata": {
            "tags": []
          }
        }
      ]
    },
    {
      "cell_type": "code",
      "metadata": {
        "colab": {
          "base_uri": "https://localhost:8080/",
          "height": 572
        },
        "id": "FPqgNbvos4BM",
        "outputId": "f4e3ed3a-56cb-4061-9dcc-24b08e0f5f57"
      },
      "source": [
        "sns.FacetGrid(df,hue='Analysis',size=5).map(sns.distplot,'Polarity').add_legend()"
      ],
      "execution_count": null,
      "outputs": [
        {
          "output_type": "stream",
          "text": [
            "/usr/local/lib/python3.7/dist-packages/seaborn/axisgrid.py:316: UserWarning: The `size` parameter has been renamed to `height`; please update your code.\n",
            "  warnings.warn(msg, UserWarning)\n",
            "/usr/local/lib/python3.7/dist-packages/seaborn/distributions.py:2557: FutureWarning: `distplot` is a deprecated function and will be removed in a future version. Please adapt your code to use either `displot` (a figure-level function with similar flexibility) or `histplot` (an axes-level function for histograms).\n",
            "  warnings.warn(msg, FutureWarning)\n",
            "/usr/local/lib/python3.7/dist-packages/seaborn/distributions.py:306: UserWarning: Dataset has 0 variance; skipping density estimate.\n",
            "  warnings.warn(msg, UserWarning)\n",
            "/usr/local/lib/python3.7/dist-packages/seaborn/distributions.py:2557: FutureWarning: `distplot` is a deprecated function and will be removed in a future version. Please adapt your code to use either `displot` (a figure-level function with similar flexibility) or `histplot` (an axes-level function for histograms).\n",
            "  warnings.warn(msg, FutureWarning)\n",
            "/usr/local/lib/python3.7/dist-packages/seaborn/distributions.py:2557: FutureWarning: `distplot` is a deprecated function and will be removed in a future version. Please adapt your code to use either `displot` (a figure-level function with similar flexibility) or `histplot` (an axes-level function for histograms).\n",
            "  warnings.warn(msg, FutureWarning)\n"
          ],
          "name": "stderr"
        },
        {
          "output_type": "execute_result",
          "data": {
            "text/plain": [
              "<seaborn.axisgrid.FacetGrid at 0x7eff38924810>"
            ]
          },
          "metadata": {
            "tags": []
          },
          "execution_count": 78
        },
        {
          "output_type": "display_data",
          "data": {
            "image/png": "[encoded data removed]",
            "text/plain": [
              "<Figure size 473.4x360 with 1 Axes>"
            ]
          },
          "metadata": {
            "tags": []
          }
        }
      ]
    },
    {
      "cell_type": "code",
      "metadata": {
        "colab": {
          "base_uri": "https://localhost:8080/",
          "height": 572
        },
        "id": "5AmNP-IXxOEO",
        "outputId": "7812112a-d8b5-415c-e17d-ec397175c347"
      },
      "source": [
        "sns.FacetGrid(df1,hue='pred',size=5).map(sns.distplot,'compound').add_legend()"
      ],
      "execution_count": null,
      "outputs": [
        {
          "output_type": "stream",
          "text": [
            "/usr/local/lib/python3.7/dist-packages/seaborn/axisgrid.py:316: UserWarning: The `size` parameter has been renamed to `height`; please update your code.\n",
            "  warnings.warn(msg, UserWarning)\n",
            "/usr/local/lib/python3.7/dist-packages/seaborn/distributions.py:2557: FutureWarning: `distplot` is a deprecated function and will be removed in a future version. Please adapt your code to use either `displot` (a figure-level function with similar flexibility) or `histplot` (an axes-level function for histograms).\n",
            "  warnings.warn(msg, FutureWarning)\n",
            "/usr/local/lib/python3.7/dist-packages/seaborn/distributions.py:2557: FutureWarning: `distplot` is a deprecated function and will be removed in a future version. Please adapt your code to use either `displot` (a figure-level function with similar flexibility) or `histplot` (an axes-level function for histograms).\n",
            "  warnings.warn(msg, FutureWarning)\n",
            "/usr/local/lib/python3.7/dist-packages/seaborn/distributions.py:306: UserWarning: Dataset has 0 variance; skipping density estimate.\n",
            "  warnings.warn(msg, UserWarning)\n",
            "/usr/local/lib/python3.7/dist-packages/seaborn/distributions.py:2557: FutureWarning: `distplot` is a deprecated function and will be removed in a future version. Please adapt your code to use either `displot` (a figure-level function with similar flexibility) or `histplot` (an axes-level function for histograms).\n",
            "  warnings.warn(msg, FutureWarning)\n"
          ],
          "name": "stderr"
        },
        {
          "output_type": "execute_result",
          "data": {
            "text/plain": [
              "<seaborn.axisgrid.FacetGrid at 0x7eff38924550>"
            ]
          },
          "metadata": {
            "tags": []
          },
          "execution_count": 79
        },
        {
          "output_type": "display_data",
          "data": {
            "image/png": "[encoded data removed]",
            "text/plain": [
              "<Figure size 436.9x360 with 1 Axes>"
            ]
          },
          "metadata": {
            "tags": []
          }
        }
      ]
    },
    {
      "cell_type": "code",
      "metadata": {
        "id": "oFkiGGWujhe7"
      },
      "source": [
        ""
      ],
      "execution_count": null,
      "outputs": []
    }
  ]
}